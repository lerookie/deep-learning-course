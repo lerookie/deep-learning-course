{
 "cells": [
  {
   "cell_type": "code",
   "execution_count": 26,
   "metadata": {},
   "outputs": [
    {
     "name": "stdout",
     "output_type": "stream",
     "text": [
      "1.1.0\n",
      "2.0.8\n"
     ]
    }
   ],
   "source": [
    "%matplotlib inline\n",
    "import matplotlib.pyplot as plt\n",
    "\n",
    "import keras\n",
    "from keras.preprocessing.image import ImageDataGenerator\n",
    "from keras.models import Sequential, Model\n",
    "from keras.layers import Dense, Dropout, Activation, Flatten, Input\n",
    "from keras.layers import Conv2D, MaxPooling2D\n",
    "from sklearn.model_selection import train_test_split\n",
    "\n",
    "import tensorflow as tf\n",
    "\n",
    "import os\n",
    "import pickle\n",
    "import numpy as np\n",
    "\n",
    "print(tf.__version__)\n",
    "print(keras.__version__)"
   ]
  },
  {
   "cell_type": "code",
   "execution_count": 27,
   "metadata": {},
   "outputs": [
    {
     "name": "stdout",
     "output_type": "stream",
     "text": [
      "200\n"
     ]
    }
   ],
   "source": [
    "num_examples_per_class = 10000\n",
    "\n",
    "classes = ['aircraft carrier','airplane','alarm clock','ambulance','angel','ant','anvil','apple','axe','banana',\n",
    "           'bandage','barn','baseball bat','baseball','basket','basketball','bathtub','beach','bear','beard',\n",
    "           'bed','bee','belt','bicycle','binoculars','birthday cake','blueberry','book','boomerang','bottlecap',\n",
    "           'bowtie','bracelet','brain','bread','broom','bulldozer','bus','bush','butterfly','cactus',\n",
    "           'cake','calculator','calendar','camel','camera','campfire','candle','cannon','canoe','car',\n",
    "           'carrot','cello','computer','cat','chandelier','clock','cloud','coffee cup','compass','cookie',\n",
    "           'couch','cow','crab','crayon','crocodile','crown','cup','diamond','dog','dolphin',\n",
    "           'donut','dragon','dresser','drill','drums','duck','dumbbell','ear','elbow','elephant',\n",
    "           'envelope','eraser','eye','eyeglasses','face','fan','feather','fence','finger','fire hydrant',\n",
    "           'fireplace','firetruck','fish','flamingo','flashlight','flip flops','floor lamp','flower','flying saucer','foot',\n",
    "           'fork','frog','frying pan','garden hose','garden','giraffe','goatee','golf club','grapes','grass',\n",
    "           'guitar','hamburger','hammer','hand','harp','hat','headphones','hedgehog','helicopter','helmet',\n",
    "           'hexagon','hockey puck','hockey stick','horse','hospital','hot air balloon','hot dog','hot tub','hourglass','house plant',\n",
    "           'house','hurricane','ice cream','jacket','jail','kangaroo','key','keyboard','knee','knife',\n",
    "           'ladder','lantern','laptop','leaf','leg','light bulb','lighter','lighthouse','lightning','line',\n",
    "           'lion','lipstick','lobster','lollipop','mailbox','map','marker','matches','megaphone','mermaid',\n",
    "           'microphone','microwave','monkey','moon','mosquito','motorbike','mountain','mouse','moustache','mouth',\n",
    "           'mug','mushroom','nail','necklace','nose','ocean','octagon','octopus','onion','oven',\n",
    "           'owl','paint can','paintbrush','palm tree','panda','pants','paper clip','parachute','parrot','passport',\n",
    "           'peanut','pear','peas','pencil','penguin','piano','pickup truck','picture frame','pig','pillow']\n",
    "\n",
    "num_classes = len(classes)\n",
    "\n",
    "print(num_classes)"
   ]
  },
  {
   "cell_type": "markdown",
   "metadata": {},
   "source": [
    "## Load the dataset"
   ]
  },
  {
   "cell_type": "code",
   "execution_count": 28,
   "metadata": {},
   "outputs": [
    {
     "name": "stdout",
     "output_type": "stream",
     "text": [
      "(2000000, 28, 28, 1)\n",
      "(2000000, 200)\n",
      "(200000, 28, 28, 1)\n",
      "(200000, 200)\n"
     ]
    }
   ],
   "source": [
    "# Load data here\n",
    "x_data = np.load(\"./data/quickdraw/x_data_200_classes_10k.npy\")\n",
    "\n",
    "x_data = x_data.reshape(x_data.shape[0], 28, 28, 1)\n",
    "x_data = x_data.astype('float32')\n",
    "x_data /= 255\n",
    "\n",
    "print(x_data.shape)\n",
    "\n",
    "labels = [np.full((num_examples_per_class,), classes.index(qdraw)) for qdraw in classes]\n",
    "\n",
    "# Concat the arrays together\n",
    "y_data = np.concatenate(labels)\n",
    "y_data = keras.utils.to_categorical(y_data, num_classes)\n",
    "\n",
    "print(y_data.shape)\n",
    "\n",
    "# Reduce data size\n",
    "x_data = np.concatenate([x_data[i:i + 1000] for i in range(0, len(x_data), num_examples_per_class)])\n",
    "y_data = np.concatenate([y_data[i:i + 1000] for i in range(0, len(y_data), num_examples_per_class)])\n",
    "\n",
    "print(x_data.shape)\n",
    "print(y_data.shape)\n",
    "\n",
    "# Partition data into training set and validation set\n",
    "x_train, x_test, y_train, y_test = train_test_split(x_data, y_data, test_size=0.2)"
   ]
  },
  {
   "cell_type": "code",
   "execution_count": 29,
   "metadata": {
    "collapsed": true
   },
   "outputs": [],
   "source": [
    "# This will do preprocessing and realtime data augmentation:\n",
    "datagen = ImageDataGenerator(\n",
    "    rotation_range=15,  # randomly rotate images in the range (degrees, 0 to 180)\n",
    "    width_shift_range=0.1,  # randomly shift images horizontally (fraction of total width)\n",
    "    height_shift_range=0.1,  # randomly shift images vertically (fraction of total height)\n",
    "    horizontal_flip=True,  # randomly flip images\n",
    "    vertical_flip=False)  # randomly flip images\n",
    "\n",
    "# Compute quantities required for feature-wise normalization\n",
    "# (std, mean, and principal components if ZCA whitening is applied).\n",
    "datagen.fit(x_train)"
   ]
  },
  {
   "cell_type": "markdown",
   "metadata": {},
   "source": [
    "## Define the Model"
   ]
  },
  {
   "cell_type": "code",
   "execution_count": 30,
   "metadata": {},
   "outputs": [
    {
     "name": "stdout",
     "output_type": "stream",
     "text": [
      "_________________________________________________________________\n",
      "Layer (type)                 Output Shape              Param #   \n",
      "=================================================================\n",
      "input_4 (InputLayer)         (None, 28, 28, 1)         0         \n",
      "_________________________________________________________________\n",
      "Conv_01 (Conv2D)             (None, 26, 26, 32)        320       \n",
      "_________________________________________________________________\n",
      "Conv_02 (Conv2D)             (None, 24, 24, 32)        9248      \n",
      "_________________________________________________________________\n",
      "MaxPool_01 (MaxPooling2D)    (None, 12, 12, 32)        0         \n",
      "_________________________________________________________________\n",
      "Dropout_01 (Dropout)         (None, 12, 12, 32)        0         \n",
      "_________________________________________________________________\n",
      "Conv_03 (Conv2D)             (None, 10, 10, 64)        18496     \n",
      "_________________________________________________________________\n",
      "Conv_04 (Conv2D)             (None, 8, 8, 64)          36928     \n",
      "_________________________________________________________________\n",
      "MaxPool_02 (MaxPooling2D)    (None, 4, 4, 64)          0         \n",
      "_________________________________________________________________\n",
      "Dropout_02 (Dropout)         (None, 4, 4, 64)          0         \n",
      "_________________________________________________________________\n",
      "Flatten_01 (Flatten)         (None, 1024)              0         \n",
      "_________________________________________________________________\n",
      "Dense_01 (Dense)             (None, 256)               262400    \n",
      "_________________________________________________________________\n",
      "Dropout_03 (Dropout)         (None, 256)               0         \n",
      "_________________________________________________________________\n",
      "Dense_02 (Dense)             (None, 200)               51400     \n",
      "=================================================================\n",
      "Total params: 378,792\n",
      "Trainable params: 378,792\n",
      "Non-trainable params: 0\n",
      "_________________________________________________________________\n"
     ]
    }
   ],
   "source": [
    "Inp = Input(shape=(28, 28, 1))\n",
    "# Convolution block 1\n",
    "x = Conv2D(32, kernel_size=(3, 3), activation='relu', name='Conv_01')(Inp)\n",
    "x = Conv2D(32, kernel_size=(3, 3), activation='relu', name='Conv_02')(x)\n",
    "x = MaxPooling2D(pool_size=(2, 2), name='MaxPool_01')(x)\n",
    "x = Dropout(0.25, name='Dropout_01')(x)\n",
    "# Convolution block 2\n",
    "x = Conv2D(64, kernel_size=(3, 3), activation='relu', name='Conv_03')(x)\n",
    "x = Conv2D(64, kernel_size=(3, 3), activation='relu', name='Conv_04')(x)\n",
    "x = MaxPooling2D(pool_size=(2, 2), name='MaxPool_02')(x)\n",
    "x = Dropout(0.5, name='Dropout_02')(x)\n",
    "\n",
    "x = Flatten(name='Flatten_01')(x)\n",
    "x = Dense(256, activation='relu', name='Dense_01')(x)\n",
    "x = Dropout(0.5, name='Dropout_03')(x)\n",
    "output = Dense(num_classes, activation='softmax', name='Dense_02')(x)\n",
    "\n",
    "# Define model inputs and output\n",
    "model = Model(Inp, output)\n",
    "model.summary()\n",
    "\n",
    "model.compile(loss=keras.losses.categorical_crossentropy,\n",
    "              optimizer=keras.optimizers.adam(),\n",
    "              metrics=['accuracy'])"
   ]
  },
  {
   "cell_type": "markdown",
   "metadata": {},
   "source": [
    "## Train the model"
   ]
  },
  {
   "cell_type": "code",
   "execution_count": 31,
   "metadata": {},
   "outputs": [
    {
     "name": "stdout",
     "output_type": "stream",
     "text": [
      "Epoch 1/10\n",
      "1250/1250 [==============================] - 25s - loss: 4.1618 - acc: 0.1172 - val_loss: 2.9439 - val_acc: 0.3366\n",
      "Epoch 2/10\n",
      "1250/1250 [==============================] - 22s - loss: 3.3335 - acc: 0.2421 - val_loss: 2.4541 - val_acc: 0.4367\n",
      "Epoch 3/10\n",
      "1250/1250 [==============================] - 22s - loss: 3.0548 - acc: 0.2944 - val_loss: 2.2251 - val_acc: 0.4751\n",
      "Epoch 4/10\n",
      "1250/1250 [==============================] - 22s - loss: 2.9042 - acc: 0.3237 - val_loss: 2.1150 - val_acc: 0.4974\n",
      "Epoch 5/10\n",
      "1250/1250 [==============================] - 22s - loss: 2.7977 - acc: 0.3459 - val_loss: 1.9974 - val_acc: 0.5228\n",
      "Epoch 6/10\n",
      "1250/1250 [==============================] - 22s - loss: 2.7215 - acc: 0.3613 - val_loss: 1.9431 - val_acc: 0.5311\n",
      "Epoch 7/10\n",
      "1250/1250 [==============================] - 22s - loss: 2.6661 - acc: 0.3706 - val_loss: 1.8908 - val_acc: 0.5433\n",
      "Epoch 8/10\n",
      "1250/1250 [==============================] - 22s - loss: 2.6265 - acc: 0.3805 - val_loss: 1.8778 - val_acc: 0.5456\n",
      "Epoch 9/10\n",
      "1250/1250 [==============================] - 21s - loss: 2.5874 - acc: 0.3869 - val_loss: 1.8310 - val_acc: 0.5588\n",
      "Epoch 10/10\n",
      "1250/1250 [==============================] - 21s - loss: 2.5643 - acc: 0.3916 - val_loss: 1.8297 - val_acc: 0.5590\n"
     ]
    }
   ],
   "source": [
    "batch_size = 128\n",
    "epochs = 10\n",
    "\n",
    "# Fit the model on the batches generated by datagen.flow().\n",
    "hist = model.fit_generator(datagen.flow(x_train, y_train,\n",
    "                                 batch_size=batch_size),\n",
    "                    steps_per_epoch=x_train.shape[0] // batch_size,\n",
    "                    epochs=epochs,\n",
    "                    validation_data=(x_test, y_test),\n",
    "                    workers=4)"
   ]
  },
  {
   "cell_type": "markdown",
   "metadata": {},
   "source": [
    "## Evaluate the model"
   ]
  },
  {
   "cell_type": "code",
   "execution_count": 32,
   "metadata": {},
   "outputs": [
    {
     "name": "stdout",
     "output_type": "stream",
     "text": [
      "Model Accuracy = 0.51\n",
      "Model Loss = 2.07\n"
     ]
    }
   ],
   "source": [
    "# Evaluate model with test data set and share sample prediction results\n",
    "evaluation = model.evaluate_generator(datagen.flow(x_test, y_test,\n",
    "                                                   batch_size=batch_size,\n",
    "                                                   shuffle=False),\n",
    "                                      steps=x_test.shape[0] // batch_size,\n",
    "                                      workers=4)\n",
    "print('Model Accuracy = %.2f' % (evaluation[1]))\n",
    "print('Model Loss = %.2f' % (evaluation[0]))"
   ]
  },
  {
   "cell_type": "code",
   "execution_count": 33,
   "metadata": {},
   "outputs": [
    {
     "data": {
      "image/png": "[encoded data removed]",
      "text/plain": [
       "<matplotlib.figure.Figure at 0x19cdba7d9e8>"
      ]
     },
     "metadata": {},
     "output_type": "display_data"
    }
   ],
   "source": [
    "def plot_train(hist):\n",
    "    h = hist.history\n",
    "    if 'acc' in h:\n",
    "        meas='acc'\n",
    "        loc='lower right'\n",
    "    else:\n",
    "        meas='loss'\n",
    "        loc='upper right'\n",
    "    plt.plot(hist.history[meas])\n",
    "    plt.plot(hist.history['val_'+meas])\n",
    "    plt.title('model '+meas)\n",
    "    plt.ylabel(meas)\n",
    "    plt.xlabel('epoch')\n",
    "    plt.legend(['train', 'validation'], loc=loc)\n",
    "    \n",
    "plot_train(hist)"
   ]
  },
  {
   "cell_type": "markdown",
   "metadata": {},
   "source": [
    "## Make predictions with the model\n"
   ]
  },
  {
   "cell_type": "code",
   "execution_count": 34,
   "metadata": {
    "collapsed": true
   },
   "outputs": [],
   "source": [
    "def show_image(data):\n",
    "    fig, axes = plt.subplots(1, )\n",
    "    fig.subplots_adjust(hspace=0.5, wspace=0.5)\n",
    "    plt.imshow(data.reshape(28, 28), cmap='gray_r')\n",
    "    plt.show()"
   ]
  },
  {
   "cell_type": "code",
   "execution_count": 35,
   "metadata": {
    "collapsed": true
   },
   "outputs": [],
   "source": [
    "predict_gen = model.predict_generator(datagen.flow(x_test, y_test,\n",
    "                                                   batch_size=batch_size,\n",
    "                                                   shuffle=False),\n",
    "                                      steps=x_test.shape[0] // batch_size,\n",
    "                                      workers=4)"
   ]
  },
  {
   "cell_type": "code",
   "execution_count": 36,
   "metadata": {},
   "outputs": [
    {
     "name": "stdout",
     "output_type": "stream",
     "text": [
      "Actual Label = barn vs. Predicted Label = canoe\n"
     ]
    },
    {
     "data": {
      "image/png": "[encoded data removed]",
      "text/plain": [
       "<matplotlib.figure.Figure at 0x19d02766f98>"
      ]
     },
     "metadata": {},
     "output_type": "display_data"
    },
    {
     "name": "stdout",
     "output_type": "stream",
     "text": [
      "Actual Label = pants vs. Predicted Label = belt\n"
     ]
    },
    {
     "data": {
      "image/png": "[encoded data removed]",
      "text/plain": [
       "<matplotlib.figure.Figure at 0x19cdcbf9e80>"
      ]
     },
     "metadata": {},
     "output_type": "display_data"
    },
    {
     "name": "stdout",
     "output_type": "stream",
     "text": [
      "Actual Label = ear vs. Predicted Label = baseball bat\n"
     ]
    },
    {
     "data": {
      "image/png": "[encoded data removed]",
      "text/plain": [
       "<matplotlib.figure.Figure at 0x19cdcafabe0>"
      ]
     },
     "metadata": {},
     "output_type": "display_data"
    },
    {
     "name": "stdout",
     "output_type": "stream",
     "text": [
      "Actual Label = mouth vs. Predicted Label = knee\n"
     ]
    },
    {
     "data": {
      "image/png": "[encoded data removed]",
      "text/plain": [
       "<matplotlib.figure.Figure at 0x19cdcc28f28>"
      ]
     },
     "metadata": {},
     "output_type": "display_data"
    },
    {
     "name": "stdout",
     "output_type": "stream",
     "text": [
      "Actual Label = helicopter vs. Predicted Label = boomerang\n"
     ]
    },
    {
     "data": {
      "image/png": "[encoded data removed]",
      "text/plain": [
       "<matplotlib.figure.Figure at 0x19cdcbda240>"
      ]
     },
     "metadata": {},
     "output_type": "display_data"
    },
    {
     "name": "stdout",
     "output_type": "stream",
     "text": [
      "Actual Label = envelope vs. Predicted Label = hexagon\n"
     ]
    },
    {
     "data": {
      "image/png": "[encoded data removed]",
      "text/plain": [
       "<matplotlib.figure.Figure at 0x19cdcc1db38>"
      ]
     },
     "metadata": {},
     "output_type": "display_data"
    },
    {
     "name": "stdout",
     "output_type": "stream",
     "text": [
      "Actual Label = moustache vs. Predicted Label = pillow\n"
     ]
    },
    {
     "data": {
      "image/png": "[encoded data removed]",
      "text/plain": [
       "<matplotlib.figure.Figure at 0x19d02959cf8>"
      ]
     },
     "metadata": {},
     "output_type": "display_data"
    },
    {
     "name": "stdout",
     "output_type": "stream",
     "text": [
      "Actual Label = bandage vs. Predicted Label = bulldozer\n"
     ]
    },
    {
     "data": {
      "image/png": "[encoded data removed]",
      "text/plain": [
       "<matplotlib.figure.Figure at 0x19d02937d30>"
      ]
     },
     "metadata": {},
     "output_type": "display_data"
    },
    {
     "name": "stdout",
     "output_type": "stream",
     "text": [
      "Actual Label = cake vs. Predicted Label = birthday cake\n"
     ]
    },
    {
     "data": {
      "image/png": "[encoded data removed]",
      "text/plain": [
       "<matplotlib.figure.Figure at 0x19d028f7c88>"
      ]
     },
     "metadata": {},
     "output_type": "display_data"
    },
    {
     "name": "stdout",
     "output_type": "stream",
     "text": [
      "Actual Label = book vs. Predicted Label = mountain\n"
     ]
    },
    {
     "data": {
      "image/png": "[encoded data removed]",
      "text/plain": [
       "<matplotlib.figure.Figure at 0x19d03980c50>"
      ]
     },
     "metadata": {},
     "output_type": "display_data"
    },
    {
     "name": "stdout",
     "output_type": "stream",
     "text": [
      "Actual Label = leaf vs. Predicted Label = bee\n"
     ]
    },
    {
     "data": {
      "image/png": "[encoded data removed]",
      "text/plain": [
       "<matplotlib.figure.Figure at 0x19d039b4f98>"
      ]
     },
     "metadata": {},
     "output_type": "display_data"
    },
    {
     "name": "stdout",
     "output_type": "stream",
     "text": [
      "Actual Label = laptop vs. Predicted Label = garden\n"
     ]
    },
    {
     "data": {
      "image/png": "[encoded data removed]",
      "text/plain": [
       "<matplotlib.figure.Figure at 0x19d039ed048>"
      ]
     },
     "metadata": {},
     "output_type": "display_data"
    },
    {
     "name": "stdout",
     "output_type": "stream",
     "text": [
      "Actual Label = ear vs. Predicted Label = cow\n"
     ]
    },
    {
     "data": {
      "image/png": "[encoded data removed]",
      "text/plain": [
       "<matplotlib.figure.Figure at 0x19d03a0da20>"
      ]
     },
     "metadata": {},
     "output_type": "display_data"
    },
    {
     "name": "stdout",
     "output_type": "stream",
     "text": [
      "Actual Label = mermaid vs. Predicted Label = eye\n"
     ]
    },
    {
     "data": {
      "image/png": "[encoded data removed]",
      "text/plain": [
       "<matplotlib.figure.Figure at 0x19d03a5be10>"
      ]
     },
     "metadata": {},
     "output_type": "display_data"
    },
    {
     "name": "stdout",
     "output_type": "stream",
     "text": [
      "Actual Label = hedgehog vs. Predicted Label = clock\n"
     ]
    },
    {
     "data": {
      "image/png": "[encoded data removed]",
      "text/plain": [
       "<matplotlib.figure.Figure at 0x19d03a76cc0>"
      ]
     },
     "metadata": {},
     "output_type": "display_data"
    },
    {
     "name": "stdout",
     "output_type": "stream",
     "text": [
      "Actual Label = horse vs. Predicted Label = elephant\n"
     ]
    },
    {
     "data": {
      "image/png": "[encoded data removed]",
      "text/plain": [
       "<matplotlib.figure.Figure at 0x19d03ad5d30>"
      ]
     },
     "metadata": {},
     "output_type": "display_data"
    },
    {
     "name": "stdout",
     "output_type": "stream",
     "text": [
      "Actual Label = camera vs. Predicted Label = ear\n"
     ]
    },
    {
     "data": {
      "image/png": "[encoded data removed]",
      "text/plain": [
       "<matplotlib.figure.Figure at 0x19d03b0cf60>"
      ]
     },
     "metadata": {},
     "output_type": "display_data"
    },
    {
     "name": "stdout",
     "output_type": "stream",
     "text": [
      "Actual Label = motorbike vs. Predicted Label = motorbike\n"
     ]
    },
    {
     "data": {
      "image/png": "[encoded data removed]",
      "text/plain": [
       "<matplotlib.figure.Figure at 0x19d03b50c50>"
      ]
     },
     "metadata": {},
     "output_type": "display_data"
    },
    {
     "name": "stdout",
     "output_type": "stream",
     "text": [
      "Actual Label = owl vs. Predicted Label = crab\n"
     ]
    },
    {
     "data": {
      "image/png": "[encoded data removed]",
      "text/plain": [
       "<matplotlib.figure.Figure at 0x19d08ac5c88>"
      ]
     },
     "metadata": {},
     "output_type": "display_data"
    },
    {
     "name": "stdout",
     "output_type": "stream",
     "text": [
      "Actual Label = clock vs. Predicted Label = megaphone\n"
     ]
    },
    {
     "data": {
      "image/png": "[encoded data removed]",
      "text/plain": [
       "<matplotlib.figure.Figure at 0x19d08afd048>"
      ]
     },
     "metadata": {},
     "output_type": "display_data"
    },
    {
     "name": "stdout",
     "output_type": "stream",
     "text": [
      "Actual Label = keyboard vs. Predicted Label = bread\n"
     ]
    },
    {
     "data": {
      "image/png": "[encoded data removed]",
      "text/plain": [
       "<matplotlib.figure.Figure at 0x19d08b1f400>"
      ]
     },
     "metadata": {},
     "output_type": "display_data"
    }
   ],
   "source": [
    "num_predictions = 20\n",
    "\n",
    "predict_gen = predict_gen[num_predictions:]\n",
    "\n",
    "for predict_index, predicted_y in enumerate(predict_gen):\n",
    "    actual_label = classes[np.argmax(y_test[predict_index])]\n",
    "    predicted_label = classes[np.argmax(predicted_y)]\n",
    "    print('Actual Label = %s vs. Predicted Label = %s' % (actual_label,\n",
    "                                                          predicted_label))\n",
    "    show_image(x_test[predict_index])\n",
    "    if predict_index == num_predictions:\n",
    "        break"
   ]
  },
  {
   "cell_type": "markdown",
   "metadata": {},
   "source": [
    "## Save the model"
   ]
  },
  {
   "cell_type": "code",
   "execution_count": null,
   "metadata": {
    "collapsed": true
   },
   "outputs": [],
   "source": [
    "model.save('project02.h5')"
   ]
  },
  {
   "cell_type": "code",
   "execution_count": null,
   "metadata": {
    "collapsed": true
   },
   "outputs": [],
   "source": []
  }
 ],
 "metadata": {
  "kernelspec": {
   "display_name": "Python 3",
   "language": "python",
   "name": "python3"
  },
  "language_info": {
   "codemirror_mode": {
    "name": "ipython",
    "version": 3
   },
   "file_extension": ".py",
   "mimetype": "text/x-python",
   "name": "python",
   "nbconvert_exporter": "python",
   "pygments_lexer": "ipython3",
   "version": "3.5.4"
  }
 },
 "nbformat": 4,
 "nbformat_minor": 2
}
