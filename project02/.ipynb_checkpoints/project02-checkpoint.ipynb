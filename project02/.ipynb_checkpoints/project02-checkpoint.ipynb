{
 "cells": [
  {
   "cell_type": "code",
   "execution_count": 1,
   "metadata": {},
   "outputs": [
    {
     "name": "stderr",
     "output_type": "stream",
     "text": [
      "Using TensorFlow backend.\n"
     ]
    },
    {
     "name": "stdout",
     "output_type": "stream",
     "text": [
      "1.1.0\n",
      "2.0.8\n"
     ]
    }
   ],
   "source": [
    "%matplotlib inline\n",
    "import matplotlib.pyplot as plt\n",
    "\n",
    "import keras\n",
    "from keras.preprocessing.image import ImageDataGenerator\n",
    "from keras.models import Sequential, Model\n",
    "from keras.layers import Dense, Dropout, Activation, Flatten, Input\n",
    "from keras.layers import Conv2D, MaxPooling2D\n",
    "from sklearn.model_selection import train_test_split\n",
    "\n",
    "import tensorflow as tf\n",
    "\n",
    "import os\n",
    "import pickle\n",
    "import numpy as np\n",
    "\n",
    "print(tf.__version__)\n",
    "print(keras.__version__)"
   ]
  },
  {
   "cell_type": "code",
   "execution_count": 17,
   "metadata": {},
   "outputs": [
    {
     "name": "stdout",
     "output_type": "stream",
     "text": [
      "200\n"
     ]
    }
   ],
   "source": [
    "num_examples_per_class = 10000\n",
    "\n",
    "classes = ['aircraft carrier','airplane','alarm clock','ambulance','angel','ant','anvil','apple','axe','banana',\n",
    "           'bandage','barn','baseball bat','baseball','basket','basketball','bathtub','beach','bear','beard',\n",
    "           'bed','bee','belt','bicycle','binoculars','birthday cake','blueberry','book','boomerang','bottlecap',\n",
    "           'bowtie','bracelet','brain','bread','broom','bulldozer','bus','bush','butterfly','cactus',\n",
    "           'cake','calculator','calendar','camel','camera','campfire','candle','cannon','canoe','car',\n",
    "           'carrot','cello','computer','cat','chandelier','clock','cloud','coffee cup','compass','cookie',\n",
    "           'couch','cow','crab','crayon','crocodile','crown','cup','diamond','dog','dolphin',\n",
    "           'donut','dragon','dresser','drill','drums','duck','dumbbell','ear','elbow','elephant',\n",
    "           'envelope','eraser','eye','eyeglasses','face','fan','feather','fence','finger','fire hydrant',\n",
    "           'fireplace','firetruck','fish','flamingo','flashlight','flip flops','floor lamp','flower','flying saucer','foot',\n",
    "           'fork','frog','frying pan','garden hose','garden','giraffe','goatee','golf club','grapes','grass',\n",
    "           'guitar','hamburger','hammer','hand','harp','hat','headphones','hedgehog','helicopter','helmet',\n",
    "           'hexagon','hockey puck','hockey stick','horse','hospital','hot air balloon','hot dog','hot tub','hourglass','house plant',\n",
    "           'house','hurricane','ice cream','jacket','jail','kangaroo','key','keyboard','knee','knife',\n",
    "           'ladder','lantern','laptop','leaf','leg','light bulb','lighter','lighthouse','lightning','line',\n",
    "           'lion','lipstick','lobster','lollipop','mailbox','map','marker','matches','megaphone','mermaid',\n",
    "           'microphone','microwave','monkey','moon','mosquito','motorbike','mountain','mouse','moustache','mouth',\n",
    "           'mug','mushroom','nail','necklace','nose','ocean','octagon','octopus','onion','oven',\n",
    "           'owl','paint can','paintbrush','palm tree','panda','pants','paper clip','parachute','parrot','passport',\n",
    "           'peanut','pear','peas','pencil','penguin','piano','pickup truck','picture frame','pig','pillow']\n",
    "\n",
    "num_classes = len(classes)\n",
    "\n",
    "print(num_classes)"
   ]
  },
  {
   "cell_type": "markdown",
   "metadata": {},
   "source": [
    "## Load the dataset"
   ]
  },
  {
   "cell_type": "code",
   "execution_count": 18,
   "metadata": {},
   "outputs": [
    {
     "name": "stdout",
     "output_type": "stream",
     "text": [
      "(2000000, 28, 28, 1)\n",
      "10000\n",
      "(2000000, 200)\n"
     ]
    }
   ],
   "source": [
    "# Load data here\n",
    "x_data = np.load(\"./data/quickdraw/x_data_200_classes_10k.npy\")\n",
    "\n",
    "x_data = x_data.reshape(x_data.shape[0], 28, 28, 1)\n",
    "x_data = x_data.astype('float32')\n",
    "x_data /= 255\n",
    "\n",
    "print(x_data.shape)\n",
    "\n",
    "labels = [np.full((num_examples_per_class,), classes.index(qdraw)) for qdraw in classes]\n",
    "\n",
    "print(len(labels[0]))\n",
    "\n",
    "# Concat the arrays together\n",
    "y_data = np.concatenate(labels)\n",
    "y_data = keras.utils.to_categorical(y_data, num_classes)\n",
    "\n",
    "print(y_data.shape)\n",
    "\n",
    "# Partition data into training set and validation set\n",
    "#x_train, x_test, y_train, y_test = train_test_split(x_data, y_data, test_size=0.2)"
   ]
  },
  {
   "cell_type": "code",
   "execution_count": null,
   "metadata": {
    "collapsed": true
   },
   "outputs": [],
   "source": []
  }
 ],
 "metadata": {
  "kernelspec": {
   "display_name": "Python 3",
   "language": "python",
   "name": "python3"
  },
  "language_info": {
   "codemirror_mode": {
    "name": "ipython",
    "version": 3
   },
   "file_extension": ".py",
   "mimetype": "text/x-python",
   "name": "python",
   "nbconvert_exporter": "python",
   "pygments_lexer": "ipython3",
   "version": "3.6.2"
  }
 },
 "nbformat": 4,
 "nbformat_minor": 2
}
