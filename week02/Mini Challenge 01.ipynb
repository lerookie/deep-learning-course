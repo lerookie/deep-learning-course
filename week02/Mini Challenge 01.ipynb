{
 "cells": [
  {
   "cell_type": "code",
   "execution_count": 32,
   "metadata": {},
   "outputs": [
    {
     "name": "stdout",
     "output_type": "stream",
     "text": [
      "1.3.0\n",
      "2.0.5\n"
     ]
    }
   ],
   "source": [
    "%matplotlib inline\n",
    "import matplotlib.pyplot as plt\n",
    "\n",
    "import keras\n",
    "from keras.preprocessing.image import ImageDataGenerator\n",
    "from keras.models import Sequential, Model\n",
    "from keras.layers import Dense, Dropout, Activation, Flatten, Input\n",
    "from keras.layers import Conv2D, MaxPooling2D\n",
    "from sklearn.model_selection import train_test_split\n",
    "\n",
    "import tensorflow as tf\n",
    "\n",
    "import os\n",
    "import pickle\n",
    "import numpy as np\n",
    "\n",
    "print(tf.__version__)\n",
    "print(keras.__version__)"
   ]
  },
  {
   "cell_type": "code",
   "execution_count": 33,
   "metadata": {
    "collapsed": true
   },
   "outputs": [],
   "source": [
    "num_dataset = 5\n",
    "dataset_size = 10000\n",
    "\n",
    "batch_size = 128\n",
    "num_classes = 5\n",
    "epochs = 10\n",
    "\n",
    "# input image dimensions\n",
    "img_rows, img_cols = 28, 28"
   ]
  },
  {
   "cell_type": "markdown",
   "metadata": {},
   "source": [
    "## Load the dataset"
   ]
  },
  {
   "cell_type": "code",
   "execution_count": 35,
   "metadata": {},
   "outputs": [
    {
     "name": "stdout",
     "output_type": "stream",
     "text": [
      "(50000, 28, 28, 1)\n",
      "(50000, 5)\n"
     ]
    }
   ],
   "source": [
    "aircraft_carrier = np.load('./data/quickdraw/full/numpy_bitmap/full_numpy_bitmap_aircraft carrier.npy')[:dataset_size]\n",
    "airplane = np.load('./data/quickdraw/full/numpy_bitmap/full_numpy_bitmap_airplane.npy')[:dataset_size]\n",
    "alarm_clock = np.load('./data/quickdraw/full/numpy_bitmap/full_numpy_bitmap_alarm clock.npy')[:dataset_size]\n",
    "ambulance = np.load('./data/quickdraw/full/numpy_bitmap/full_numpy_bitmap_ambulance.npy')[:dataset_size]\n",
    "angel = np.load('./data/quickdraw/full/numpy_bitmap/full_numpy_bitmap_angel.npy')[:dataset_size]\n",
    "\n",
    "dataset = np.concatenate((aircraft_carrier, airplane, alarm_clock, ambulance, angel))\n",
    "dataset = dataset.reshape(dataset.shape[0], img_rows, img_cols, 1)\n",
    "\n",
    "print(dataset.shape)\n",
    "\n",
    "labels = np.empty((0, 1))\n",
    "for i in range(num_dataset):\n",
    "    labels = np.concatenate((labels, np.full((dataset_size, 1), i)))\n",
    "    \n",
    "labels = keras.utils.to_categorical(labels, num_classes)\n",
    "\n",
    "print(labels.shape)\n",
    "\n",
    "# Partition data into training set and validation set\n",
    "x_train, x_test, y_train, y_test = train_test_split(dataset, labels, test_size=0.2)"
   ]
  },
  {
   "cell_type": "code",
   "execution_count": 40,
   "metadata": {
    "collapsed": true
   },
   "outputs": [],
   "source": [
    "Inp = Input(shape=(28, 28, 1))\n",
    "x = Conv2D(32, kernel_size=(3, 3), activation='relu', name='Conv_01')(Inp)\n",
    "x = Conv2D(64, kernel_size=(3, 3), activation='relu', name='Conv_02')(x)\n",
    "x = MaxPooling2D(pool_size=(2, 2), name='MaxPool_01')(x)\n",
    "x = Dropout(0.25, name='Dropout_01')(x)\n",
    "x = Flatten(name='Flatten_01')(x)\n",
    "x = Dense(128, activation='relu', name='Dense_01')(x)\n",
    "x = Dropout(0.5, name='Dropout_02')(x)\n",
    "output = Dense(num_classes, activation='softmax', name='Dense_02')(x)"
   ]
  },
  {
   "cell_type": "code",
   "execution_count": 41,
   "metadata": {},
   "outputs": [
    {
     "name": "stdout",
     "output_type": "stream",
     "text": [
      "_________________________________________________________________\n",
      "Layer (type)                 Output Shape              Param #   \n",
      "=================================================================\n",
      "input_1 (InputLayer)         (None, 28, 28, 1)         0         \n",
      "_________________________________________________________________\n",
      "Conv_01 (Conv2D)             (None, 26, 26, 32)        320       \n",
      "_________________________________________________________________\n",
      "Conv_02 (Conv2D)             (None, 24, 24, 64)        18496     \n",
      "_________________________________________________________________\n",
      "MaxPool_01 (MaxPooling2D)    (None, 12, 12, 64)        0         \n",
      "_________________________________________________________________\n",
      "Dropout_01 (Dropout)         (None, 12, 12, 64)        0         \n",
      "_________________________________________________________________\n",
      "Flatten_01 (Flatten)         (None, 9216)              0         \n",
      "_________________________________________________________________\n",
      "Dense_01 (Dense)             (None, 128)               1179776   \n",
      "_________________________________________________________________\n",
      "Dropout_02 (Dropout)         (None, 128)               0         \n",
      "_________________________________________________________________\n",
      "Dense_02 (Dense)             (None, 5)                 645       \n",
      "=================================================================\n",
      "Total params: 1,199,237\n",
      "Trainable params: 1,199,237\n",
      "Non-trainable params: 0\n",
      "_________________________________________________________________\n"
     ]
    }
   ],
   "source": [
    "# Define model inputs and output\n",
    "model = Model(Inp, output)\n",
    "model.summary()"
   ]
  },
  {
   "cell_type": "code",
   "execution_count": 42,
   "metadata": {
    "collapsed": true
   },
   "outputs": [],
   "source": [
    "model.compile(loss=keras.losses.categorical_crossentropy,\n",
    "              optimizer=keras.optimizers.Adadelta(),\n",
    "              metrics=['accuracy'])"
   ]
  },
  {
   "cell_type": "code",
   "execution_count": 43,
   "metadata": {},
   "outputs": [
    {
     "name": "stdout",
     "output_type": "stream",
     "text": [
      "Train on 40000 samples, validate on 10000 samples\n",
      "Epoch 1/10\n",
      "40000/40000 [==============================] - 104s - loss: 2.2103 - acc: 0.6639 - val_loss: 0.4833 - val_acc: 0.8367\n",
      "Epoch 2/10\n",
      "40000/40000 [==============================] - 105s - loss: 0.5415 - acc: 0.8183 - val_loss: 0.3869 - val_acc: 0.8651\n",
      "Epoch 3/10\n",
      "40000/40000 [==============================] - 96s - loss: 0.4403 - acc: 0.8516 - val_loss: 0.3515 - val_acc: 0.8791\n",
      "Epoch 4/10\n",
      "40000/40000 [==============================] - 98s - loss: 0.3868 - acc: 0.8669 - val_loss: 0.3337 - val_acc: 0.8854\n",
      "Epoch 5/10\n",
      "40000/40000 [==============================] - 112s - loss: 0.3519 - acc: 0.8787 - val_loss: 0.3310 - val_acc: 0.8886\n",
      "Epoch 6/10\n",
      "40000/40000 [==============================] - 97s - loss: 0.3266 - acc: 0.8872 - val_loss: 0.3155 - val_acc: 0.8952\n",
      "Epoch 7/10\n",
      "40000/40000 [==============================] - 94s - loss: 0.3062 - acc: 0.8939 - val_loss: 0.3156 - val_acc: 0.8989\n",
      "Epoch 8/10\n",
      "40000/40000 [==============================] - 104s - loss: 0.2879 - acc: 0.8994 - val_loss: 0.3237 - val_acc: 0.8993\n",
      "Epoch 9/10\n",
      "40000/40000 [==============================] - 96s - loss: 0.2748 - acc: 0.9034 - val_loss: 0.3033 - val_acc: 0.9006\n",
      "Epoch 10/10\n",
      "40000/40000 [==============================] - 104s - loss: 0.2632 - acc: 0.9067 - val_loss: 0.2993 - val_acc: 0.9025\n"
     ]
    }
   ],
   "source": [
    "hist = model.fit(x_train, y_train,\n",
    "          batch_size=batch_size,\n",
    "          epochs=epochs,\n",
    "          verbose=1,\n",
    "          callbacks = None,\n",
    "          validation_data=(x_test, y_test))"
   ]
  },
  {
   "cell_type": "code",
   "execution_count": 44,
   "metadata": {},
   "outputs": [
    {
     "name": "stdout",
     "output_type": "stream",
     "text": [
      " 9984/10000 [============================>.] - ETA: 0sModel Accuracy = 0.90\n",
      "Model Loss = 0.30\n"
     ]
    }
   ],
   "source": [
    "# Evaluate model with test data set and share sample prediction results\n",
    "evaluation = model.evaluate(x_test, y_test,\n",
    "          batch_size=batch_size)\n",
    "print('Model Accuracy = %.2f' % (evaluation[1]))\n",
    "print('Model Loss = %.2f' % (evaluation[0]))"
   ]
  },
  {
   "cell_type": "code",
   "execution_count": 45,
   "metadata": {},
   "outputs": [
    {
     "data": {
      "image/png": "[encoded data removed]",
      "text/plain": [
       "<matplotlib.figure.Figure at 0x7f150f299e80>"
      ]
     },
     "metadata": {},
     "output_type": "display_data"
    }
   ],
   "source": [
    "def plot_train(hist):\n",
    "    h = hist.history\n",
    "    if 'acc' in h:\n",
    "        meas='acc'\n",
    "        loc='lower right'\n",
    "    else:\n",
    "        meas='loss'\n",
    "        loc='upper right'\n",
    "    plt.plot(hist.history[meas])\n",
    "    plt.plot(hist.history['val_'+meas])\n",
    "    plt.title('model '+meas)\n",
    "    plt.ylabel(meas)\n",
    "    plt.xlabel('epoch')\n",
    "    plt.legend(['train', 'validation'], loc=loc)\n",
    "    \n",
    "plot_train(hist)"
   ]
  },
  {
   "cell_type": "code",
   "execution_count": 46,
   "metadata": {
    "collapsed": true
   },
   "outputs": [],
   "source": [
    "model.save('mini_challenge_01.h5')"
   ]
  },
  {
   "cell_type": "code",
   "execution_count": 59,
   "metadata": {},
   "outputs": [
    {
     "data": {
      "image/png": "[encoded data removed]",
      "text/plain": [
       "<matplotlib.figure.Figure at 0x7f14fd6eda20>"
      ]
     },
     "metadata": {},
     "output_type": "display_data"
    },
    {
     "name": "stdout",
     "output_type": "stream",
     "text": [
      "Actual Label: 4, Predicted Label: 4\n"
     ]
    }
   ],
   "source": [
    "predict_data = x_test\n",
    "index = 2\n",
    "\n",
    "def show_image(data):\n",
    "    fig, axes = plt.subplots(1, )\n",
    "    fig.subplots_adjust(hspace=0.5, wspace=0.5)\n",
    "    #plt.title('Training data, index: %d,  Label: %d' % (0, label))\n",
    "    plt.imshow(data.reshape(28, 28), cmap='gray_r')\n",
    "    plt.show()\n",
    "\n",
    "show_image(predict_data[index])\n",
    "\n",
    "preds = model.predict(predict_data)\n",
    "\n",
    "print('Actual Label: %s, Predicted Label: %s' % (np.argmax(y_test[index]), np.argmax(preds[index])))"
   ]
  },
  {
   "cell_type": "code",
   "execution_count": null,
   "metadata": {
    "collapsed": true
   },
   "outputs": [],
   "source": []
  }
 ],
 "metadata": {
  "kernelspec": {
   "display_name": "Python 3",
   "language": "python",
   "name": "python3"
  },
  "language_info": {
   "codemirror_mode": {
    "name": "ipython",
    "version": 3
   },
   "file_extension": ".py",
   "mimetype": "text/x-python",
   "name": "python",
   "nbconvert_exporter": "python",
   "pygments_lexer": "ipython3",
   "version": "3.6.2"
  }
 },
 "nbformat": 4,
 "nbformat_minor": 2
}
