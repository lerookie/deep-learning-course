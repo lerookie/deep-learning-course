{
 "cells": [
  {
   "cell_type": "code",
   "execution_count": 2,
   "metadata": {},
   "outputs": [
    {
     "name": "stdout",
     "output_type": "stream",
     "text": [
      "1.1.0\n",
      "2.0.8\n"
     ]
    }
   ],
   "source": [
    "%matplotlib inline\n",
    "import matplotlib.pyplot as plt\n",
    "\n",
    "import keras\n",
    "from keras.preprocessing.image import ImageDataGenerator\n",
    "from keras.models import Sequential, Model\n",
    "from keras.layers import Dense, Dropout, Activation, Flatten, Input\n",
    "from keras.layers import Conv2D, MaxPooling2D\n",
    "from sklearn.model_selection import train_test_split\n",
    "\n",
    "import tensorflow as tf\n",
    "\n",
    "import os\n",
    "import pickle\n",
    "import numpy as np\n",
    "\n",
    "print(tf.__version__)\n",
    "print(keras.__version__)"
   ]
  },
  {
   "cell_type": "code",
   "execution_count": 8,
   "metadata": {
    "collapsed": true
   },
   "outputs": [],
   "source": [
    "num_examples_per_class = 5000\n",
    "\n",
    "classes = ['airplane','alarm clock','ambulance','angel','ant','anvil','apple','axe','banana','bandage',\n",
    "           'barn','baseball bat','baseball','basket','basketball','bathtub','beach','bear','beard','bed',\n",
    "           'bee','belt','bicycle','binoculars','birthday cake','blueberry','book','boomerang','bottlecap','bowtie',\n",
    "           'bracelet','brain','bread','broom','bulldozer','bus','bush','butterfly','cactus','cake',\n",
    "           'calculator','calendar','camel','camera','campfire','candle','cannon','canoe','car','carrot',\n",
    "           'cello','computer','cat','chandelier','clock','cloud','coffee cup','compass','cookie','couch',\n",
    "           'cow','crab','crayon','crocodile','crown','cup','diamond','dog','dolphin','donut',\n",
    "           'dragon','dresser','drill','drums','duck','dumbbell','ear','elbow','elephant','envelope',\n",
    "           'eraser','eye','eyeglasses','face','fan','feather','fence','finger','fire hydrant','fireplace',\n",
    "           'firetruck','fish','flamingo','flashlight','flip flops','floor lamp','flower','flying saucer','foot','fork']\n",
    "\n",
    "num_classes = len(classes)"
   ]
  },
  {
   "cell_type": "markdown",
   "metadata": {},
   "source": [
    "## Load the dataset"
   ]
  },
  {
   "cell_type": "code",
   "execution_count": null,
   "metadata": {
    "collapsed": true
   },
   "outputs": [],
   "source": [
    "quickdraws = [np.load(\"../../data/{}.npy\".format(qdraw))[:num_examples_per_class] for qdraw in classes]\n",
    "\n",
    "# Concat the arrays together\n",
    "x_data = np.concatenate(quickdraws)"
   ]
  },
  {
   "cell_type": "code",
   "execution_count": 38,
   "metadata": {},
   "outputs": [
    {
     "name": "stdout",
     "output_type": "stream",
     "text": [
      "(500000, 28, 28, 1)\n",
      "(500000, 100)\n"
     ]
    }
   ],
   "source": [
    "# Load data here\n",
    "x_data = np.load(\"./data/quickdraw/x_data_100_classes_5k.npy\")\n",
    "\n",
    "x_data = x_data.reshape(x_data.shape[0], 28, 28, 1)\n",
    "x_data = x_data.astype('float32')\n",
    "x_data /= 255\n",
    "\n",
    "print(x_data.shape)\n",
    "\n",
    "labels = [np.full((num_examples_per_class,), classes.index(qdraw)) for qdraw in classes]\n",
    "\n",
    "# Concat the arrays together\n",
    "y_data = np.concatenate(labels)\n",
    "y_data = keras.utils.to_categorical(y_data, num_classes)\n",
    "\n",
    "print(y_data.shape)\n",
    "\n",
    "# Partition data into training set and validation set\n",
    "x_train, x_test, y_train, y_test = train_test_split(x_data, y_data, test_size=0.2)"
   ]
  },
  {
   "cell_type": "markdown",
   "metadata": {},
   "source": [
    "## Create Model"
   ]
  },
  {
   "cell_type": "code",
   "execution_count": 39,
   "metadata": {},
   "outputs": [],
   "source": [
    "Inp = Input(shape=(28, 28, 1))\n",
    "# Convolution block 1\n",
    "x = Conv2D(32, kernel_size=(3, 3), activation='relu', name='Conv_01')(Inp)\n",
    "x = Conv2D(32, kernel_size=(3, 3), activation='relu', name='Conv_02')(x)\n",
    "x = MaxPooling2D(pool_size=(2, 2), name='MaxPool_01')(x)\n",
    "x = Dropout(0.25, name='Dropout_01')(x)\n",
    "# Convolution block 2\n",
    "x = Conv2D(64, kernel_size=(3, 3), activation='relu', name='Conv_03')(x)\n",
    "x = Conv2D(64, kernel_size=(3, 3), activation='relu', name='Conv_04')(x)\n",
    "x = MaxPooling2D(pool_size=(2, 2), name='MaxPool_02')(x)\n",
    "x = Dropout(0.5, name='Dropout_02')(x)\n",
    "\n",
    "x = Flatten(name='Flatten_01')(x)\n",
    "x = Dense(256, activation='relu', name='Dense_01')(x)\n",
    "x = Dropout(0.5, name='Dropout_03')(x)\n",
    "output = Dense(num_classes, activation='softmax', name='Dense_02')(x)"
   ]
  },
  {
   "cell_type": "code",
   "execution_count": 40,
   "metadata": {},
   "outputs": [
    {
     "name": "stdout",
     "output_type": "stream",
     "text": [
      "_________________________________________________________________\n",
      "Layer (type)                 Output Shape              Param #   \n",
      "=================================================================\n",
      "input_6 (InputLayer)         (None, 28, 28, 1)         0         \n",
      "_________________________________________________________________\n",
      "Conv_01 (Conv2D)             (None, 26, 26, 32)        320       \n",
      "_________________________________________________________________\n",
      "Conv_02 (Conv2D)             (None, 24, 24, 32)        9248      \n",
      "_________________________________________________________________\n",
      "MaxPool_01 (MaxPooling2D)    (None, 12, 12, 32)        0         \n",
      "_________________________________________________________________\n",
      "Dropout_01 (Dropout)         (None, 12, 12, 32)        0         \n",
      "_________________________________________________________________\n",
      "Conv_03 (Conv2D)             (None, 10, 10, 64)        18496     \n",
      "_________________________________________________________________\n",
      "Conv_04 (Conv2D)             (None, 8, 8, 64)          36928     \n",
      "_________________________________________________________________\n",
      "MaxPool_02 (MaxPooling2D)    (None, 4, 4, 64)          0         \n",
      "_________________________________________________________________\n",
      "Dropout_02 (Dropout)         (None, 4, 4, 64)          0         \n",
      "_________________________________________________________________\n",
      "Flatten_01 (Flatten)         (None, 1024)              0         \n",
      "_________________________________________________________________\n",
      "Dense_01 (Dense)             (None, 256)               262400    \n",
      "_________________________________________________________________\n",
      "Dropout_03 (Dropout)         (None, 256)               0         \n",
      "_________________________________________________________________\n",
      "Dense_02 (Dense)             (None, 100)               25700     \n",
      "=================================================================\n",
      "Total params: 353,092\n",
      "Trainable params: 353,092\n",
      "Non-trainable params: 0\n",
      "_________________________________________________________________\n"
     ]
    }
   ],
   "source": [
    "# Define model inputs and output\n",
    "model = Model(Inp, output)\n",
    "model.summary()"
   ]
  },
  {
   "cell_type": "code",
   "execution_count": 41,
   "metadata": {},
   "outputs": [],
   "source": [
    "model.compile(loss=keras.losses.categorical_crossentropy,\n",
    "              optimizer=keras.optimizers.adam(),\n",
    "              metrics=['accuracy'])"
   ]
  },
  {
   "cell_type": "code",
   "execution_count": 42,
   "metadata": {},
   "outputs": [
    {
     "name": "stdout",
     "output_type": "stream",
     "text": [
      "Train on 400000 samples, validate on 100000 samples\n",
      "Epoch 1/10\n",
      "400000/400000 [==============================] - 46s - loss: 2.3071 - acc: 0.4340 - val_loss: 1.3623 - val_acc: 0.6623\n",
      "Epoch 2/10\n",
      "400000/400000 [==============================] - 45s - loss: 1.6871 - acc: 0.5730 - val_loss: 1.1953 - val_acc: 0.7026\n",
      "Epoch 3/10\n",
      "400000/400000 [==============================] - 45s - loss: 1.5546 - acc: 0.6050 - val_loss: 1.1164 - val_acc: 0.7200\n",
      "Epoch 4/10\n",
      "400000/400000 [==============================] - 45s - loss: 1.4896 - acc: 0.6219 - val_loss: 1.0853 - val_acc: 0.7269\n",
      "Epoch 5/10\n",
      "400000/400000 [==============================] - 49s - loss: 1.4471 - acc: 0.6322 - val_loss: 1.0560 - val_acc: 0.7357\n",
      "Epoch 6/10\n",
      "400000/400000 [==============================] - 49s - loss: 1.4153 - acc: 0.6402 - val_loss: 1.0462 - val_acc: 0.7408\n",
      "Epoch 7/10\n",
      "400000/400000 [==============================] - 49s - loss: 1.3915 - acc: 0.6448 - val_loss: 1.0200 - val_acc: 0.7446\n",
      "Epoch 8/10\n",
      "400000/400000 [==============================] - 49s - loss: 1.3755 - acc: 0.6492 - val_loss: 0.9951 - val_acc: 0.7488\n",
      "Epoch 9/10\n",
      "400000/400000 [==============================] - 49s - loss: 1.3592 - acc: 0.6531 - val_loss: 0.9845 - val_acc: 0.7521\n",
      "Epoch 10/10\n",
      "400000/400000 [==============================] - 49s - loss: 1.3476 - acc: 0.6557 - val_loss: 0.9823 - val_acc: 0.7513\n"
     ]
    }
   ],
   "source": [
    "batch_size = 128\n",
    "epochs = 10\n",
    "\n",
    "hist = model.fit(x_train, y_train,\n",
    "          batch_size=batch_size,\n",
    "          epochs=epochs,\n",
    "          verbose=1,\n",
    "          callbacks = None,\n",
    "          validation_data=(x_test, y_test))"
   ]
  },
  {
   "cell_type": "code",
   "execution_count": 43,
   "metadata": {},
   "outputs": [
    {
     "name": "stdout",
     "output_type": "stream",
     "text": [
      " 98944/100000 [============================>.] - ETA: 0sModel Accuracy = 0.75\n",
      "Model Loss = 0.98\n"
     ]
    }
   ],
   "source": [
    "# Evaluate model with test data set and share sample prediction results\n",
    "evaluation = model.evaluate(x_test, y_test,\n",
    "          batch_size=batch_size)\n",
    "print('Model Accuracy = %.2f' % (evaluation[1]))\n",
    "print('Model Loss = %.2f' % (evaluation[0]))"
   ]
  },
  {
   "cell_type": "code",
   "execution_count": 44,
   "metadata": {},
   "outputs": [
    {
     "data": {
      "image/png": "[encoded data removed]",
      "text/plain": [
       "<matplotlib.figure.Figure at 0x24ad8e4e8d0>"
      ]
     },
     "metadata": {},
     "output_type": "display_data"
    }
   ],
   "source": [
    "def plot_train(hist):\n",
    "    h = hist.history\n",
    "    if 'acc' in h:\n",
    "        meas='acc'\n",
    "        loc='lower right'\n",
    "    else:\n",
    "        meas='loss'\n",
    "        loc='upper right'\n",
    "    plt.plot(hist.history[meas])\n",
    "    plt.plot(hist.history['val_'+meas])\n",
    "    plt.title('model '+meas)\n",
    "    plt.ylabel(meas)\n",
    "    plt.xlabel('epoch')\n",
    "    plt.legend(['train', 'validation'], loc=loc)\n",
    "    \n",
    "plot_train(hist)"
   ]
  },
  {
   "cell_type": "code",
   "execution_count": 45,
   "metadata": {
    "collapsed": true
   },
   "outputs": [],
   "source": [
    "model.save('mini_challenge_01.h5')"
   ]
  },
  {
   "cell_type": "code",
   "execution_count": 46,
   "metadata": {},
   "outputs": [
    {
     "data": {
      "image/png": "[encoded data removed]",
      "text/plain": [
       "<matplotlib.figure.Figure at 0x24ad884d2b0>"
      ]
     },
     "metadata": {},
     "output_type": "display_data"
    },
    {
     "name": "stdout",
     "output_type": "stream",
     "text": [
      "Actual Label: 7, Predicted Label: 7\n"
     ]
    }
   ],
   "source": [
    "predict_data = x_test\n",
    "index = 2\n",
    "\n",
    "def show_image(data):\n",
    "    fig, axes = plt.subplots(1, )\n",
    "    fig.subplots_adjust(hspace=0.5, wspace=0.5)\n",
    "    plt.imshow(data.reshape(28, 28), cmap='gray_r')\n",
    "    plt.show()\n",
    "\n",
    "show_image(predict_data[index])\n",
    "\n",
    "preds = model.predict(predict_data)\n",
    "\n",
    "print('Actual Label: %s, Predicted Label: %s' % (np.argmax(y_test[index]), np.argmax(preds[index])))"
   ]
  },
  {
   "cell_type": "code",
   "execution_count": null,
   "metadata": {
    "collapsed": true
   },
   "outputs": [],
   "source": []
  }
 ],
 "metadata": {
  "kernelspec": {
   "display_name": "Python 3",
   "language": "python",
   "name": "python3"
  },
  "language_info": {
   "codemirror_mode": {
    "name": "ipython",
    "version": 3
   },
   "file_extension": ".py",
   "mimetype": "text/x-python",
   "name": "python",
   "nbconvert_exporter": "python",
   "pygments_lexer": "ipython3",
   "version": "3.6.2"
  }
 },
 "nbformat": 4,
 "nbformat_minor": 2
}
