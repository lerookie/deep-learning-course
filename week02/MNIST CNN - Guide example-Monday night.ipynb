{
 "cells": [
  {
   "cell_type": "code",
   "execution_count": 1,
   "metadata": {},
   "outputs": [
    {
     "name": "stderr",
     "output_type": "stream",
     "text": [
      "Using TensorFlow backend.\n"
     ]
    }
   ],
   "source": [
    "%matplotlib inline\n",
    "import matplotlib.pyplot as plt\n",
    "\n",
    "from sutils import *\n",
    "import os, json\n",
    "from glob import glob\n",
    "\n",
    "import keras\n",
    "from keras.datasets import mnist\n",
    "from keras.models import Sequential, Model\n",
    "from keras.layers import Dense, Dropout, Flatten,Input, BatchNormalization\n",
    "from keras.layers import Conv2D, MaxPooling2D\n",
    "from keras import backend as K"
   ]
  },
  {
   "cell_type": "code",
   "execution_count": 2,
   "metadata": {
    "collapsed": true
   },
   "outputs": [],
   "source": [
    "batch_size = 128\n",
    "num_classes = 10\n",
    "epochs = 10\n",
    "\n",
    "dataset = \"fashion\" # or \"numbers\"\n",
    "\n",
    "# input image dimensions\n",
    "img_rows, img_cols = 28, 28"
   ]
  },
  {
   "cell_type": "markdown",
   "metadata": {
    "collapsed": true
   },
   "source": [
    "## Load the MNIST Fashion"
   ]
  },
  {
   "cell_type": "code",
   "execution_count": 3,
   "metadata": {
    "collapsed": true
   },
   "outputs": [],
   "source": [
    "def load_mnist(path, kind='train'):\n",
    "    import os\n",
    "    import struct\n",
    "    import gzip\n",
    "    import numpy as np\n",
    "\n",
    "    \"\"\"Load MNIST data from `path`\"\"\"\n",
    "    labels_path = os.path.join(path,\n",
    "                               '%s-labels-idx1-ubyte.gz'\n",
    "                               % kind)\n",
    "    images_path = os.path.join(path,\n",
    "                               '%s-images-idx3-ubyte.gz'\n",
    "                               % kind)\n",
    "\n",
    "    with gzip.open(labels_path, 'rb') as lbpath:\n",
    "        struct.unpack('>II', lbpath.read(8))\n",
    "        labels = np.frombuffer(lbpath.read(), dtype=np.uint8)\n",
    "\n",
    "    with gzip.open(images_path, 'rb') as imgpath:\n",
    "        struct.unpack(\">IIII\", imgpath.read(16))\n",
    "        images = np.frombuffer(imgpath.read(), dtype=np.uint8).reshape(len(labels), 784)\n",
    "\n",
    "    return images, labels"
   ]
  },
  {
   "cell_type": "code",
   "execution_count": 4,
   "metadata": {},
   "outputs": [
    {
     "name": "stdout",
     "output_type": "stream",
     "text": [
      "Downloading data from https://s3.amazonaws.com/img-datasets/mnist.npz\n",
      "11476992/11490434 [============================>.] - ETA: 0s"
     ]
    }
   ],
   "source": [
    "# the data, shuffled and split between train and test sets\n",
    "(x_train, y_train), (x_test, y_test) = mnist.load_data()\n",
    "\n",
    "path = './data/fashion/'\n",
    "\n",
    "if dataset == \"fashion\":\n",
    "    x_train, y_train = load_mnist(path, kind='train')\n",
    "    x_test, y_test = load_mnist(path, kind='t10k')"
   ]
  },
  {
   "cell_type": "code",
   "execution_count": 5,
   "metadata": {
    "collapsed": true
   },
   "outputs": [],
   "source": [
    "def show_digit(index):\n",
    "    label = y_train[index]#.argmax(axis=0)\n",
    "    # Reshape 784 array into 28x28 image\n",
    "    image = x_train[index].reshape([28,28])\n",
    "    fig, axes = plt.subplots(1, )\n",
    "    fig.subplots_adjust(hspace=0.5, wspace=0.5)\n",
    "    plt.title('Training data, index: %d,  Label: %d' % (index, label))\n",
    "    plt.imshow(image, cmap='gray_r')\n",
    "    plt.show()\n",
    "    "
   ]
  },
  {
   "cell_type": "code",
   "execution_count": 6,
   "metadata": {},
   "outputs": [
    {
     "data": {
      "image/png": "[encoded data removed]",
      "text/plain": [
       "<matplotlib.figure.Figure at 0x7f87e3275470>"
      ]
     },
     "metadata": {},
     "output_type": "display_data"
    },
    {
     "data": {
      "image/png": "[encoded data removed]",
      "text/plain": [
       "<matplotlib.figure.Figure at 0x7f87e2369278>"
      ]
     },
     "metadata": {},
     "output_type": "display_data"
    }
   ],
   "source": [
    "show_digit(0)\n",
    "show_digit(10)\n"
   ]
  },
  {
   "cell_type": "code",
   "execution_count": null,
   "metadata": {
    "collapsed": true
   },
   "outputs": [],
   "source": []
  },
  {
   "cell_type": "code",
   "execution_count": 7,
   "metadata": {
    "collapsed": true
   },
   "outputs": [],
   "source": [
    "# reshape the data into format (width, Height, channels)\n",
    "x_train = x_train.reshape(x_train.shape[0], img_rows, img_cols, 1)\n",
    "x_test = x_test.reshape(x_test.shape[0], img_rows, img_cols, 1)\n",
    "input_shape = (img_rows, img_cols, 1)"
   ]
  },
  {
   "cell_type": "code",
   "execution_count": 8,
   "metadata": {},
   "outputs": [
    {
     "data": {
      "text/plain": [
       "(28, 28, 1)"
      ]
     },
     "execution_count": 8,
     "metadata": {},
     "output_type": "execute_result"
    }
   ],
   "source": [
    "input_shape"
   ]
  },
  {
   "cell_type": "code",
   "execution_count": 9,
   "metadata": {},
   "outputs": [
    {
     "name": "stdout",
     "output_type": "stream",
     "text": [
      "x_train shape: (60000, 28, 28, 1)\n",
      "60000 train samples\n",
      "10000 test samples\n"
     ]
    }
   ],
   "source": [
    "x_train = x_train.astype('float32')\n",
    "x_test = x_test.astype('float32')\n",
    "x_train /= 255\n",
    "x_test /= 255\n",
    "print('x_train shape:', x_train.shape)\n",
    "print(x_train.shape[0], 'train samples')\n",
    "print(x_test.shape[0], 'test samples')"
   ]
  },
  {
   "cell_type": "code",
   "execution_count": 10,
   "metadata": {
    "collapsed": true
   },
   "outputs": [],
   "source": [
    "# convert class vectors to binary class matrices\n",
    "y_train = keras.utils.to_categorical(y_train, num_classes)\n",
    "y_test = keras.utils.to_categorical(y_test, num_classes)"
   ]
  },
  {
   "cell_type": "code",
   "execution_count": 11,
   "metadata": {
    "collapsed": true
   },
   "outputs": [],
   "source": [
    "Inp=Input(shape=input_shape)\n",
    "x = Conv2D(32, kernel_size=(3, 3), activation='relu',name = 'Conv_01')(Inp)\n",
    "x = Conv2D(64, (3, 3), activation='relu',name = 'Conv_02')(x)\n",
    "x = MaxPooling2D(pool_size=(2, 2),name = 'MaxPool_01')(x)\n",
    "x = Dropout(0.25,name = 'Dropout_01')(x)\n",
    "x = Flatten(name = 'Flatten_01')(x)\n",
    "x = Dense(128, activation='relu',name = 'Dense_01')(x)\n",
    "#x = BatchNormalization()(x)\n",
    "x = Dropout(0.5,name = 'Dropout_02')(x)\n",
    "output = Dense(num_classes, activation='softmax',name = 'Dense_02')(x)"
   ]
  },
  {
   "cell_type": "code",
   "execution_count": 12,
   "metadata": {
    "collapsed": true
   },
   "outputs": [],
   "source": [
    "model = Model(Inp,output)"
   ]
  },
  {
   "cell_type": "markdown",
   "metadata": {},
   "source": [
    "## Calculating the number of parameters for Convolution Networks\n",
    "\n",
    "Formula is (filters x (kernel_height x kernel_width) x inputs)+ 1 x filters = parameters\n",
    "\n",
    "Conv_01 = 32 Filters , 3x3 Kernel = (32 x (3x3) x 1 input) + 1bias x filters = 320 parameters  \n",
    "Conv_02 = 64 Filters , 3x3 Kernel = (64 x (3x3) x 32 inputs) + 1bias x filters = 18496 parameters \n",
    "\n",
    "Dense_1 = (9216 inputs * 128 units)+ 128 bias = 1,179,776  \n",
    "Dense_2 = (128 inputs * 10 units) +10 bias = 1290\n",
    "\n",
    "1,200,394 - batchnorm (adds 512 more parameters)\n",
    "1,199,882 - no batchnorm"
   ]
  },
  {
   "cell_type": "code",
   "execution_count": 13,
   "metadata": {},
   "outputs": [
    {
     "name": "stdout",
     "output_type": "stream",
     "text": [
      "_________________________________________________________________\n",
      "Layer (type)                 Output Shape              Param #   \n",
      "=================================================================\n",
      "input_1 (InputLayer)         (None, 28, 28, 1)         0         \n",
      "_________________________________________________________________\n",
      "Conv_01 (Conv2D)             (None, 26, 26, 32)        320       \n",
      "_________________________________________________________________\n",
      "Conv_02 (Conv2D)             (None, 24, 24, 64)        18496     \n",
      "_________________________________________________________________\n",
      "MaxPool_01 (MaxPooling2D)    (None, 12, 12, 64)        0         \n",
      "_________________________________________________________________\n",
      "Dropout_01 (Dropout)         (None, 12, 12, 64)        0         \n",
      "_________________________________________________________________\n",
      "Flatten_01 (Flatten)         (None, 9216)              0         \n",
      "_________________________________________________________________\n",
      "Dense_01 (Dense)             (None, 128)               1179776   \n",
      "_________________________________________________________________\n",
      "Dropout_02 (Dropout)         (None, 128)               0         \n",
      "_________________________________________________________________\n",
      "Dense_02 (Dense)             (None, 10)                1290      \n",
      "=================================================================\n",
      "Total params: 1,199,882\n",
      "Trainable params: 1,199,882\n",
      "Non-trainable params: 0\n",
      "_________________________________________________________________\n"
     ]
    }
   ],
   "source": [
    "model.summary()"
   ]
  },
  {
   "cell_type": "code",
   "execution_count": 14,
   "metadata": {
    "collapsed": true
   },
   "outputs": [],
   "source": [
    "model.compile(loss=keras.losses.categorical_crossentropy,\n",
    "              optimizer=keras.optimizers.Adadelta(),\n",
    "              metrics=['accuracy'])"
   ]
  },
  {
   "cell_type": "code",
   "execution_count": 15,
   "metadata": {},
   "outputs": [
    {
     "name": "stdout",
     "output_type": "stream",
     "text": [
      "Train on 60000 samples, validate on 10000 samples\n",
      "Epoch 1/10\n",
      "60000/60000 [==============================] - 140s - loss: 0.6256 - acc: 0.7845 - val_loss: 0.3820 - val_acc: 0.8637\n",
      "Epoch 2/10\n",
      "60000/60000 [==============================] - 149s - loss: 0.3946 - acc: 0.8642 - val_loss: 0.3056 - val_acc: 0.8921\n",
      "Epoch 3/10\n",
      "60000/60000 [==============================] - 124s - loss: 0.3443 - acc: 0.8801 - val_loss: 0.2851 - val_acc: 0.8989\n",
      "Epoch 4/10\n",
      "60000/60000 [==============================] - 141s - loss: 0.3141 - acc: 0.8906 - val_loss: 0.2705 - val_acc: 0.9020\n",
      "Epoch 5/10\n",
      "60000/60000 [==============================] - 151s - loss: 0.2951 - acc: 0.8957 - val_loss: 0.2572 - val_acc: 0.9086\n",
      "Epoch 6/10\n",
      "60000/60000 [==============================] - 154s - loss: 0.2775 - acc: 0.9002 - val_loss: 0.2457 - val_acc: 0.9129\n",
      "Epoch 7/10\n",
      "60000/60000 [==============================] - 173s - loss: 0.2647 - acc: 0.9059 - val_loss: 0.2329 - val_acc: 0.9163\n",
      "Epoch 8/10\n",
      "60000/60000 [==============================] - 174s - loss: 0.2508 - acc: 0.9113 - val_loss: 0.2345 - val_acc: 0.9142\n",
      "Epoch 9/10\n",
      "60000/60000 [==============================] - 186s - loss: 0.2431 - acc: 0.9136 - val_loss: 0.2221 - val_acc: 0.9199\n",
      "Epoch 10/10\n",
      "60000/60000 [==============================] - 168s - loss: 0.2306 - acc: 0.9190 - val_loss: 0.2176 - val_acc: 0.9224\n"
     ]
    }
   ],
   "source": [
    "hist = model.fit(x_train, y_train,\n",
    "          batch_size=batch_size,\n",
    "          epochs=epochs,\n",
    "          verbose=1,\n",
    "          callbacks = None,\n",
    "          validation_data=(x_test, y_test))"
   ]
  },
  {
   "cell_type": "code",
   "execution_count": null,
   "metadata": {
    "collapsed": true
   },
   "outputs": [],
   "source": []
  },
  {
   "cell_type": "code",
   "execution_count": 16,
   "metadata": {},
   "outputs": [
    {
     "name": "stdout",
     "output_type": "stream",
     "text": [
      " 9984/10000 [============================>.] - ETA: 0sModel Accuracy = 0.92\n",
      "Model Loss = 0.22\n"
     ]
    }
   ],
   "source": [
    "# Evaluate model with test data set and share sample prediction results\n",
    "evaluation = model.evaluate(x_test, y_test,\n",
    "          batch_size=batch_size)\n",
    "print('Model Accuracy = %.2f' % (evaluation[1]))\n",
    "print('Model Loss = %.2f' % (evaluation[0]))"
   ]
  },
  {
   "cell_type": "code",
   "execution_count": 17,
   "metadata": {
    "collapsed": true
   },
   "outputs": [],
   "source": [
    "preds = model.predict(x_test)"
   ]
  },
  {
   "cell_type": "code",
   "execution_count": null,
   "metadata": {
    "collapsed": true
   },
   "outputs": [],
   "source": [
    "model.save_weights('basic_cnn.h5')"
   ]
  },
  {
   "cell_type": "code",
   "execution_count": null,
   "metadata": {
    "collapsed": true
   },
   "outputs": [],
   "source": [
    "model.save('cnn_model')"
   ]
  },
  {
   "cell_type": "code",
   "execution_count": null,
   "metadata": {
    "collapsed": true
   },
   "outputs": [],
   "source": [
    "model.evaluate??"
   ]
  },
  {
   "cell_type": "code",
   "execution_count": null,
   "metadata": {
    "collapsed": true
   },
   "outputs": [],
   "source": []
  },
  {
   "cell_type": "code",
   "execution_count": null,
   "metadata": {
    "collapsed": true
   },
   "outputs": [],
   "source": [
    "Inp=Input(shape=input_shape)\n",
    "x = Conv2D(32, kernel_size=(3, 3), activation='relu',name = 'Conv_01')(Inp)\n",
    "x = Conv2D(64, (3, 3), activation='relu',name = 'Conv_02')(x)\n",
    "x = MaxPooling2D(pool_size=(2, 2),name = 'MaxPool_01')(x)\n",
    "x = Conv2D(128, (3, 3), activation='relu',name = 'Conv_03')(x)\n",
    "x = Conv2D(256, (3, 3), activation='relu',name = 'Conv_04')(x)\n",
    "x = MaxPooling2D(pool_size=(2, 2),name = 'MaxPool_02')(x)\n",
    "x = Dropout(0.25,name = 'Dropout_01')(x)\n",
    "x = Flatten(name = 'Flatten_01')(x)\n",
    "x = Dense(128, activation='relu',name = 'Dense_01')(x)\n",
    "x = Dropout(0.5,name = 'Dropout_02')(x)\n",
    "output = Dense(num_classes, activation='softmax',name = 'Dense_02')(x)"
   ]
  },
  {
   "cell_type": "code",
   "execution_count": null,
   "metadata": {
    "collapsed": true
   },
   "outputs": [],
   "source": [
    "model = Model(Inp,output)"
   ]
  },
  {
   "cell_type": "markdown",
   "metadata": {},
   "source": [
    "## Calculating the number of parameters for Convolution Networks\n",
    "\n",
    "Formula is (filters x (kernel_height x kernel_width) x inputs) 1 x filters = parameters\n",
    "\n",
    "Conv_01 = 32 Filters , 3x3 Kernel = (32 x (3x3) x 1 input) + 1bias x filters = 320 parameters  \n",
    "Conv_02 = 64 Filters , 3x3 Kernel = (64 x (3x3) x 32 inputs) + 1bias x filters = 18496 parameters   \n",
    "Conv_03 = 128 Filters , 3x3 Kernel = (128 x (3x3) x 64 input) + 1bias x filters = 73856 parameters    \n",
    "Conv_04 = 256 Filters , 3x3 Kernel = (256 x (3x3) x 128 inputs) + 1bias x filters = 295168 parameters \n",
    "\n",
    "Dense_1 = (4096 inputs * 128 units)+ 128 bias = 524,416  \n",
    "Dense_2 = (128 inputs * 10 units) +10 bias = 1290"
   ]
  },
  {
   "cell_type": "code",
   "execution_count": null,
   "metadata": {
    "collapsed": true
   },
   "outputs": [],
   "source": [
    "model.summary()"
   ]
  },
  {
   "cell_type": "code",
   "execution_count": null,
   "metadata": {
    "collapsed": true
   },
   "outputs": [],
   "source": []
  }
 ],
 "metadata": {
  "kernelspec": {
   "display_name": "Python 3",
   "language": "python",
   "name": "python3"
  },
  "language_info": {
   "codemirror_mode": {
    "name": "ipython",
    "version": 3
   },
   "file_extension": ".py",
   "mimetype": "text/x-python",
   "name": "python",
   "nbconvert_exporter": "python",
   "pygments_lexer": "ipython3",
   "version": "3.6.2"
  }
 },
 "nbformat": 4,
 "nbformat_minor": 2
}
