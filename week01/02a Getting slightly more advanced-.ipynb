{
 "cells": [
  {
   "cell_type": "markdown",
   "metadata": {
    "collapsed": true
   },
   "source": [
    "## 2. Getting slightly more advanced\n"
   ]
  },
  {
   "cell_type": "code",
   "execution_count": 1,
   "metadata": {},
   "outputs": [
    {
     "name": "stderr",
     "output_type": "stream",
     "text": [
      "Using TensorFlow backend.\n"
     ]
    }
   ],
   "source": [
    "%matplotlib inline\n",
    "import matplotlib.pyplot as plt\n",
    "\n",
    "import keras\n",
    "from keras.models import Model, Sequential\n",
    "from keras.layers import *\n",
    "from keras.optimizers import Adam\n",
    "import keras.backend as K\n",
    "\n",
    "import tensorflow as tf\n",
    "import numpy as np"
   ]
  },
  {
   "cell_type": "code",
   "execution_count": 2,
   "metadata": {},
   "outputs": [
    {
     "name": "stdout",
     "output_type": "stream",
     "text": [
      "2.0.5\n",
      "1.3.0\n"
     ]
    }
   ],
   "source": [
    "print(keras.__version__)\n",
    "print(tf.__version__)"
   ]
  },
  {
   "cell_type": "markdown",
   "metadata": {},
   "source": [
    "### Lets import our dataset"
   ]
  },
  {
   "cell_type": "code",
   "execution_count": 3,
   "metadata": {},
   "outputs": [
    {
     "name": "stdout",
     "output_type": "stream",
     "text": [
      "Downloading data from https://s3.amazonaws.com/img-datasets/mnist.npz\n",
      "11476992/11490434 [============================>.] - ETA: 0s"
     ]
    }
   ],
   "source": [
    "from keras.datasets import mnist\n",
    "\n",
    "(x_train, y_train), (x_test, y_test) = mnist.load_data()"
   ]
  },
  {
   "cell_type": "code",
   "execution_count": 4,
   "metadata": {},
   "outputs": [
    {
     "name": "stdout",
     "output_type": "stream",
     "text": [
      "(60000, 784) train samples\n",
      "(10000, 784) test samples\n"
     ]
    },
    {
     "data": {
      "text/plain": [
       "array([ 0.,  0.,  0.,  0.,  0.,  1.,  0.,  0.,  0.,  0.])"
      ]
     },
     "execution_count": 4,
     "metadata": {},
     "output_type": "execute_result"
    }
   ],
   "source": [
    "x_train = x_train.reshape(60000, 784)\n",
    "x_test = x_test.reshape(10000, 784)\n",
    "x_train = x_train.astype('float32')\n",
    "x_test = x_test.astype('float32')\n",
    "x_train /= 255\n",
    "x_test /= 255\n",
    "print(x_train.shape, 'train samples')\n",
    "print(x_test.shape, 'test samples')\n",
    "\n",
    "n_classes = 10\n",
    "# convert class vectors to binary One Hot Encoded\n",
    "y_train = keras.utils.to_categorical(y_train, n_classes)\n",
    "y_test = keras.utils.to_categorical(y_test, n_classes)\n",
    "y_train[0]"
   ]
  },
  {
   "cell_type": "markdown",
   "metadata": {},
   "source": [
    "### Setting up our Network Hyper Parameters"
   ]
  },
  {
   "cell_type": "code",
   "execution_count": 5,
   "metadata": {
    "collapsed": true
   },
   "outputs": [],
   "source": [
    "# Training Parameters for basic MNIST\n",
    "learning_rate = 0.1 \n",
    "training_epochs = 10\n",
    "batch_size = 100\n",
    "\n",
    "# Network Parameters\n",
    "n_input = 784 # MNIST data input (img shape: 28*28 flattened to be 784)\n",
    "n_hidden_1 = 384 # 1st layer number of neurons\n",
    "n_hidden_2 = 100 # 2nd layer number of neurons\n",
    "n_hidden_3 = 100 # 2nd layer number of neurons\n",
    "n_classes = 10 # MNIST classes for prediction(digits 0-9 )"
   ]
  },
  {
   "cell_type": "markdown",
   "metadata": {},
   "source": [
    "### This time we are going to make a functional model instead of a sequential model"
   ]
  },
  {
   "cell_type": "code",
   "execution_count": 6,
   "metadata": {
    "collapsed": true
   },
   "outputs": [],
   "source": [
    "Inp = Input(shape=(784,))\n",
    "x = Dense(n_hidden_1, activation='relu', name = \"Dense_1\")(Inp)\n",
    "x = Dense(n_hidden_2, activation='relu', name = \"Dense_2\")(x)\n",
    "x = Dense(n_hidden_3, activation='relu', name = \"Dense_3\")(x)\n",
    "output = Dense(n_classes, activation='softmax', name = \"Outputlayer\")(x)\n"
   ]
  },
  {
   "cell_type": "code",
   "execution_count": 7,
   "metadata": {
    "collapsed": true
   },
   "outputs": [],
   "source": [
    "# This creates a model that includes our input, 3 dense hidden layers, output layer\n",
    "model = Model(Inp, output)"
   ]
  },
  {
   "cell_type": "code",
   "execution_count": 8,
   "metadata": {},
   "outputs": [
    {
     "name": "stdout",
     "output_type": "stream",
     "text": [
      "_________________________________________________________________\n",
      "Layer (type)                 Output Shape              Param #   \n",
      "=================================================================\n",
      "input_1 (InputLayer)         (None, 784)               0         \n",
      "_________________________________________________________________\n",
      "Dense_1 (Dense)              (None, 384)               301440    \n",
      "_________________________________________________________________\n",
      "Dense_2 (Dense)              (None, 100)               38500     \n",
      "_________________________________________________________________\n",
      "Dense_3 (Dense)              (None, 100)               10100     \n",
      "_________________________________________________________________\n",
      "Outputlayer (Dense)          (None, 10)                1010      \n",
      "=================================================================\n",
      "Total params: 351,050\n",
      "Trainable params: 351,050\n",
      "Non-trainable params: 0\n",
      "_________________________________________________________________\n"
     ]
    }
   ],
   "source": [
    "model.summary()"
   ]
  },
  {
   "cell_type": "code",
   "execution_count": 9,
   "metadata": {
    "collapsed": true
   },
   "outputs": [],
   "source": [
    "model.compile(loss='categorical_crossentropy',\n",
    "              optimizer='SGD',\n",
    "              metrics=['accuracy'])"
   ]
  },
  {
   "cell_type": "code",
   "execution_count": 10,
   "metadata": {
    "collapsed": true
   },
   "outputs": [],
   "source": [
    "K.set_value(model.optimizer.lr, learning_rate)"
   ]
  },
  {
   "cell_type": "code",
   "execution_count": 11,
   "metadata": {},
   "outputs": [
    {
     "name": "stdout",
     "output_type": "stream",
     "text": [
      "Train on 60000 samples, validate on 10000 samples\n",
      "Epoch 1/10\n",
      "60000/60000 [==============================] - 17s - loss: 0.4027 - acc: 0.8794 - val_loss: 0.1857 - val_acc: 0.9463\n",
      "Epoch 2/10\n",
      "60000/60000 [==============================] - 16s - loss: 0.1590 - acc: 0.9530 - val_loss: 0.1199 - val_acc: 0.9643\n",
      "Epoch 3/10\n",
      "60000/60000 [==============================] - 13s - loss: 0.1108 - acc: 0.9663 - val_loss: 0.1084 - val_acc: 0.9668\n",
      "Epoch 4/10\n",
      "60000/60000 [==============================] - 13s - loss: 0.0838 - acc: 0.9749 - val_loss: 0.0853 - val_acc: 0.9741\n",
      "Epoch 5/10\n",
      "60000/60000 [==============================] - 16s - loss: 0.0670 - acc: 0.9798 - val_loss: 0.0833 - val_acc: 0.9740\n",
      "Epoch 6/10\n",
      "60000/60000 [==============================] - 17s - loss: 0.0533 - acc: 0.9838 - val_loss: 0.0705 - val_acc: 0.9777\n",
      "Epoch 7/10\n",
      "60000/60000 [==============================] - 18s - loss: 0.0438 - acc: 0.9867 - val_loss: 0.0672 - val_acc: 0.9789\n",
      "Epoch 8/10\n",
      "60000/60000 [==============================] - 18s - loss: 0.0352 - acc: 0.9894 - val_loss: 0.0737 - val_acc: 0.9785\n",
      "Epoch 9/10\n",
      "60000/60000 [==============================] - 15s - loss: 0.0303 - acc: 0.9909 - val_loss: 0.0676 - val_acc: 0.9795\n",
      "Epoch 10/10\n",
      "60000/60000 [==============================] - 17s - loss: 0.0255 - acc: 0.9925 - val_loss: 0.0665 - val_acc: 0.9795\n"
     ]
    }
   ],
   "source": [
    "history = model.fit(x_train, y_train,\n",
    "                    batch_size=batch_size,\n",
    "                    epochs=training_epochs,\n",
    "                    verbose=1, # This is for what we want it to display out as it trains \n",
    "                    validation_data=(x_test, y_test))"
   ]
  },
  {
   "cell_type": "code",
   "execution_count": 12,
   "metadata": {
    "collapsed": true
   },
   "outputs": [],
   "source": [
    "def plot_train(hist):\n",
    "    h = hist.history\n",
    "    if 'acc' in h:\n",
    "        meas='acc'\n",
    "        loc='lower right'\n",
    "    else:\n",
    "        meas='loss'\n",
    "        loc='upper right'\n",
    "    plt.plot(hist.history[meas])\n",
    "    plt.plot(hist.history['val_'+meas])\n",
    "    plt.title('model '+meas)\n",
    "    plt.ylabel(meas)\n",
    "    plt.xlabel('epoch')\n",
    "    plt.legend(['train', 'validation'], loc=loc)\n",
    "    "
   ]
  },
  {
   "cell_type": "code",
   "execution_count": 13,
   "metadata": {},
   "outputs": [
    {
     "data": {
      "image/png": "[encoded data removed]",
      "text/plain": [
       "<matplotlib.figure.Figure at 0x7f7d3eb35278>"
      ]
     },
     "metadata": {},
     "output_type": "display_data"
    }
   ],
   "source": [
    "plot_train(history)"
   ]
  },
  {
   "cell_type": "code",
   "execution_count": null,
   "metadata": {
    "collapsed": true
   },
   "outputs": [],
   "source": []
  },
  {
   "cell_type": "markdown",
   "metadata": {},
   "source": [
    "Now lets add dropput\n",
    "\n",
    "Dropout(0.3) = randomly dropout 30% of the units each pass through"
   ]
  },
  {
   "cell_type": "code",
   "execution_count": 14,
   "metadata": {
    "collapsed": true
   },
   "outputs": [],
   "source": [
    "Inp = Input(shape=(784,))\n",
    "x = Dense(n_hidden_1, activation='relu', name = \"Dense_1\")(Inp)\n",
    "x = Dropout(0.3)(x)\n",
    "x = Dense(n_hidden_2, activation='relu', name = \"Dense_2\")(x)\n",
    "x = Dropout(0.3)(x)\n",
    "x = Dense(n_hidden_3, activation='relu', name = \"Dense_3\")(x)\n",
    "output = Dense(n_classes, activation='softmax', name = \"Outputlayer\")(x)\n"
   ]
  },
  {
   "cell_type": "code",
   "execution_count": 15,
   "metadata": {
    "collapsed": true
   },
   "outputs": [],
   "source": [
    "model = Model(Inp, output)"
   ]
  },
  {
   "cell_type": "code",
   "execution_count": 16,
   "metadata": {},
   "outputs": [
    {
     "name": "stdout",
     "output_type": "stream",
     "text": [
      "_________________________________________________________________\n",
      "Layer (type)                 Output Shape              Param #   \n",
      "=================================================================\n",
      "input_2 (InputLayer)         (None, 784)               0         \n",
      "_________________________________________________________________\n",
      "Dense_1 (Dense)              (None, 384)               301440    \n",
      "_________________________________________________________________\n",
      "dropout_1 (Dropout)          (None, 384)               0         \n",
      "_________________________________________________________________\n",
      "Dense_2 (Dense)              (None, 100)               38500     \n",
      "_________________________________________________________________\n",
      "dropout_2 (Dropout)          (None, 100)               0         \n",
      "_________________________________________________________________\n",
      "Dense_3 (Dense)              (None, 100)               10100     \n",
      "_________________________________________________________________\n",
      "Outputlayer (Dense)          (None, 10)                1010      \n",
      "=================================================================\n",
      "Total params: 351,050\n",
      "Trainable params: 351,050\n",
      "Non-trainable params: 0\n",
      "_________________________________________________________________\n"
     ]
    }
   ],
   "source": [
    "model.summary()"
   ]
  },
  {
   "cell_type": "code",
   "execution_count": 17,
   "metadata": {
    "collapsed": true
   },
   "outputs": [],
   "source": [
    "model.compile(loss='categorical_crossentropy',\n",
    "              optimizer='SGD',\n",
    "              metrics=['accuracy'])"
   ]
  },
  {
   "cell_type": "code",
   "execution_count": 18,
   "metadata": {},
   "outputs": [
    {
     "name": "stdout",
     "output_type": "stream",
     "text": [
      "Train on 60000 samples, validate on 10000 samples\n",
      "Epoch 1/10\n",
      "60000/60000 [==============================] - 18s - loss: 1.3968 - acc: 0.5588 - val_loss: 0.5429 - val_acc: 0.8583\n",
      "Epoch 2/10\n",
      "60000/60000 [==============================] - 19s - loss: 0.6312 - acc: 0.8051 - val_loss: 0.3560 - val_acc: 0.8994\n",
      "Epoch 3/10\n",
      "60000/60000 [==============================] - 19s - loss: 0.4802 - acc: 0.8566 - val_loss: 0.2963 - val_acc: 0.9154\n",
      "Epoch 4/10\n",
      "60000/60000 [==============================] - 19s - loss: 0.4089 - acc: 0.8783 - val_loss: 0.2629 - val_acc: 0.9234\n",
      "Epoch 5/10\n",
      "60000/60000 [==============================] - 19s - loss: 0.3644 - acc: 0.8936 - val_loss: 0.2358 - val_acc: 0.9299\n",
      "Epoch 6/10\n",
      "60000/60000 [==============================] - 18s - loss: 0.3314 - acc: 0.9014 - val_loss: 0.2191 - val_acc: 0.9336\n",
      "Epoch 7/10\n",
      "60000/60000 [==============================] - 19s - loss: 0.3041 - acc: 0.9109 - val_loss: 0.1998 - val_acc: 0.9387\n",
      "Epoch 8/10\n",
      "60000/60000 [==============================] - 20s - loss: 0.2802 - acc: 0.9172 - val_loss: 0.1866 - val_acc: 0.9414\n",
      "Epoch 9/10\n",
      "60000/60000 [==============================] - 19s - loss: 0.2633 - acc: 0.9225 - val_loss: 0.1745 - val_acc: 0.9463\n",
      "Epoch 10/10\n",
      "60000/60000 [==============================] - 19s - loss: 0.2498 - acc: 0.9265 - val_loss: 0.1666 - val_acc: 0.9488\n"
     ]
    }
   ],
   "source": [
    "history = model.fit(x_train, y_train,\n",
    "                    batch_size=batch_size,\n",
    "                    epochs=training_epochs,\n",
    "                    verbose=1, # This is for what we want it to display out as it trains \n",
    "                    validation_data=(x_test, y_test))"
   ]
  },
  {
   "cell_type": "code",
   "execution_count": 19,
   "metadata": {},
   "outputs": [
    {
     "data": {
      "image/png": "[encoded data removed]",
      "text/plain": [
       "<matplotlib.figure.Figure at 0x7f7d30a71400>"
      ]
     },
     "metadata": {},
     "output_type": "display_data"
    }
   ],
   "source": [
    "plot_train(history)"
   ]
  },
  {
   "cell_type": "code",
   "execution_count": 20,
   "metadata": {},
   "outputs": [
    {
     "data": {
      "text/plain": [
       "array([[  5.84689633e-06,   1.69581392e-06,   1.85840297e-04,\n",
       "          1.75444206e-04,   7.24840419e-08,   2.84879138e-06,\n",
       "          9.64856017e-09,   9.99469936e-01,   1.81534256e-06,\n",
       "          1.56424736e-04],\n",
       "       [  3.06235335e-04,   7.86334931e-05,   9.86116707e-01,\n",
       "          1.04485322e-02,   3.88021618e-07,   3.30079230e-04,\n",
       "          8.70553660e-04,   2.71629960e-06,   1.84492895e-03,\n",
       "          1.17240893e-06],\n",
       "       [  2.25964550e-06,   9.93422925e-01,   1.69691595e-03,\n",
       "          6.40980667e-04,   3.88438668e-04,   4.88098594e-04,\n",
       "          4.48323233e-04,   1.02912856e-03,   1.66003453e-03,\n",
       "          2.22826726e-04],\n",
       "       [  9.98062313e-01,   5.49122667e-08,   5.33445796e-04,\n",
       "          9.84608268e-05,   2.49957452e-06,   7.80618575e-04,\n",
       "          2.60900561e-04,   1.07397769e-04,   5.33268249e-05,\n",
       "          1.01043966e-04]], dtype=float32)"
      ]
     },
     "execution_count": 20,
     "metadata": {},
     "output_type": "execute_result"
    }
   ],
   "source": [
    "model.predict(x_test[0:4])"
   ]
  },
  {
   "cell_type": "code",
   "execution_count": 21,
   "metadata": {},
   "outputs": [
    {
     "name": "stdout",
     "output_type": "stream",
     "text": [
      "Test loss: 0.166610720864\n",
      "Test accuracy: 0.9488\n"
     ]
    }
   ],
   "source": [
    "score = model.evaluate(x_test, y_test, verbose=0)\n",
    "print('Test loss:', score[0])\n",
    "print('Test accuracy:', score[1])"
   ]
  },
  {
   "cell_type": "markdown",
   "metadata": {
    "collapsed": true
   },
   "source": [
    "### Build a netowork with at least 7 layers and uses dropout"
   ]
  },
  {
   "cell_type": "code",
   "execution_count": 22,
   "metadata": {
    "collapsed": true
   },
   "outputs": [],
   "source": [
    "# Training Parameters for basic MNIST\n",
    "learning_rate = 0.1 \n",
    "training_epochs = 10\n",
    "batch_size = 100\n",
    "\n",
    "# Network Parameters\n",
    "n_input = 784 # MNIST data input (img shape: 28*28 flattened to be 784)\n",
    "n_hidden_1 = 384 # 1st layer number of neurons\n",
    "n_hidden_2 = 100 # 2nd layer number of neurons\n",
    "n_hidden_3 = 100 # 3rd layer number of neurons\n",
    "n_hidden_4 = 100 # 4th layer number of neurons\n",
    "n_hidden_5 = 100 # 5th layer number of neurons\n",
    "n_hidden_6 = 100 # 6th layer number of neurons\n",
    "n_hidden_7 = 100 # 7th layer number of neurons\n",
    "n_classes = 10 # MNIST classes for prediction(digits 0-9 )"
   ]
  },
  {
   "cell_type": "code",
   "execution_count": 23,
   "metadata": {
    "collapsed": true
   },
   "outputs": [],
   "source": [
    "Inp = Input(shape=(784,))\n",
    "x = Dense(n_hidden_1, activation='relu', name = \"Dense_1\")(Inp)\n",
    "x = Dropout(0.3)(x)\n",
    "x = Dense(n_hidden_2, activation='relu', name = \"Dense_2\")(x)\n",
    "x = Dropout(0.3)(x)\n",
    "x = Dense(n_hidden_3, activation='relu', name = \"Dense_3\")(x)\n",
    "x = Dropout(0.3)(x)\n",
    "x = Dense(n_hidden_4, activation='relu', name = \"Dense_4\")(x)\n",
    "x = Dropout(0.3)(x)\n",
    "x = Dense(n_hidden_5, activation='relu', name = \"Dense_5\")(x)\n",
    "x = Dropout(0.3)(x)\n",
    "x = Dense(n_hidden_6, activation='relu', name = \"Dense_6\")(x)\n",
    "x = Dropout(0.3)(x)\n",
    "x = Dense(n_hidden_7, activation='relu', name = \"Dense_7\")(x)\n",
    "output = Dense(n_classes, activation='softmax', name = \"Outputlayer\")(x)"
   ]
  },
  {
   "cell_type": "code",
   "execution_count": 24,
   "metadata": {
    "collapsed": true
   },
   "outputs": [],
   "source": [
    "model = Model(Inp, output)"
   ]
  },
  {
   "cell_type": "code",
   "execution_count": 25,
   "metadata": {},
   "outputs": [
    {
     "name": "stdout",
     "output_type": "stream",
     "text": [
      "_________________________________________________________________\n",
      "Layer (type)                 Output Shape              Param #   \n",
      "=================================================================\n",
      "input_3 (InputLayer)         (None, 784)               0         \n",
      "_________________________________________________________________\n",
      "Dense_1 (Dense)              (None, 384)               301440    \n",
      "_________________________________________________________________\n",
      "dropout_3 (Dropout)          (None, 384)               0         \n",
      "_________________________________________________________________\n",
      "Dense_2 (Dense)              (None, 100)               38500     \n",
      "_________________________________________________________________\n",
      "dropout_4 (Dropout)          (None, 100)               0         \n",
      "_________________________________________________________________\n",
      "Dense_3 (Dense)              (None, 100)               10100     \n",
      "_________________________________________________________________\n",
      "dropout_5 (Dropout)          (None, 100)               0         \n",
      "_________________________________________________________________\n",
      "Dense_4 (Dense)              (None, 100)               10100     \n",
      "_________________________________________________________________\n",
      "dropout_6 (Dropout)          (None, 100)               0         \n",
      "_________________________________________________________________\n",
      "Dense_5 (Dense)              (None, 100)               10100     \n",
      "_________________________________________________________________\n",
      "dropout_7 (Dropout)          (None, 100)               0         \n",
      "_________________________________________________________________\n",
      "Dense_6 (Dense)              (None, 100)               10100     \n",
      "_________________________________________________________________\n",
      "dropout_8 (Dropout)          (None, 100)               0         \n",
      "_________________________________________________________________\n",
      "Dense_7 (Dense)              (None, 100)               10100     \n",
      "_________________________________________________________________\n",
      "Outputlayer (Dense)          (None, 10)                1010      \n",
      "=================================================================\n",
      "Total params: 391,450\n",
      "Trainable params: 391,450\n",
      "Non-trainable params: 0\n",
      "_________________________________________________________________\n"
     ]
    }
   ],
   "source": [
    "model.summary()"
   ]
  },
  {
   "cell_type": "code",
   "execution_count": 26,
   "metadata": {
    "collapsed": true
   },
   "outputs": [],
   "source": [
    "model.compile(loss='categorical_crossentropy',\n",
    "              optimizer='SGD',\n",
    "              metrics=['accuracy'])"
   ]
  },
  {
   "cell_type": "code",
   "execution_count": 27,
   "metadata": {},
   "outputs": [
    {
     "name": "stdout",
     "output_type": "stream",
     "text": [
      "Train on 60000 samples, validate on 10000 samples\n",
      "Epoch 1/10\n",
      "60000/60000 [==============================] - 25s - loss: 2.2854 - acc: 0.1345 - val_loss: 2.1992 - val_acc: 0.3315\n",
      "Epoch 2/10\n",
      "60000/60000 [==============================] - 31s - loss: 2.0441 - acc: 0.2725 - val_loss: 1.6350 - val_acc: 0.4789\n",
      "Epoch 3/10\n",
      "60000/60000 [==============================] - 29s - loss: 1.6217 - acc: 0.4267 - val_loss: 1.2259 - val_acc: 0.6050\n",
      "Epoch 4/10\n",
      "60000/60000 [==============================] - 17s - loss: 1.2820 - acc: 0.5434 - val_loss: 0.8509 - val_acc: 0.7231\n",
      "Epoch 5/10\n",
      "60000/60000 [==============================] - 17s - loss: 1.0053 - acc: 0.6653 - val_loss: 0.5990 - val_acc: 0.8419\n",
      "Epoch 6/10\n",
      "60000/60000 [==============================] - 18s - loss: 0.8064 - acc: 0.7467 - val_loss: 0.4370 - val_acc: 0.8877\n",
      "Epoch 7/10\n",
      "60000/60000 [==============================] - 16s - loss: 0.6737 - acc: 0.7953 - val_loss: 0.3536 - val_acc: 0.9118\n",
      "Epoch 8/10\n",
      "60000/60000 [==============================] - 16s - loss: 0.5751 - acc: 0.8301 - val_loss: 0.2831 - val_acc: 0.9263\n",
      "Epoch 9/10\n",
      "60000/60000 [==============================] - 16s - loss: 0.5052 - acc: 0.8537 - val_loss: 0.2572 - val_acc: 0.9311\n",
      "Epoch 10/10\n",
      "60000/60000 [==============================] - 16s - loss: 0.4495 - acc: 0.8704 - val_loss: 0.2356 - val_acc: 0.9392\n"
     ]
    }
   ],
   "source": [
    "history = model.fit(x_train, y_train,\n",
    "                    batch_size=batch_size,\n",
    "                    epochs=training_epochs,\n",
    "                    verbose=1, # This is for what we want it to display out as it trains \n",
    "                    validation_data=(x_test, y_test))"
   ]
  },
  {
   "cell_type": "code",
   "execution_count": 28,
   "metadata": {},
   "outputs": [
    {
     "name": "stdout",
     "output_type": "stream",
     "text": [
      "Test loss: 0.235552799144\n",
      "Test accuracy: 0.9392\n"
     ]
    }
   ],
   "source": [
    "score = model.evaluate(x_test, y_test, verbose=0)\n",
    "print('Test loss:', score[0])\n",
    "print('Test accuracy:', score[1])"
   ]
  },
  {
   "cell_type": "code",
   "execution_count": null,
   "metadata": {
    "collapsed": true
   },
   "outputs": [],
   "source": []
  }
 ],
 "metadata": {
  "kernelspec": {
   "display_name": "Python 3",
   "language": "python",
   "name": "python3"
  },
  "language_info": {
   "codemirror_mode": {
    "name": "ipython",
    "version": 3
   },
   "file_extension": ".py",
   "mimetype": "text/x-python",
   "name": "python",
   "nbconvert_exporter": "python",
   "pygments_lexer": "ipython3",
   "version": "3.6.2"
  }
 },
 "nbformat": 4,
 "nbformat_minor": 2
}
