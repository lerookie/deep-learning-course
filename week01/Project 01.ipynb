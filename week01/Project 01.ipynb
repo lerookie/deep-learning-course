{
 "cells": [
  {
   "cell_type": "code",
   "execution_count": 79,
   "metadata": {},
   "outputs": [
    {
     "name": "stdout",
     "output_type": "stream",
     "text": [
      "2.0.5\n",
      "1.3.0\n"
     ]
    }
   ],
   "source": [
    "%matplotlib inline\n",
    "import matplotlib.pyplot as plt\n",
    "\n",
    "import keras\n",
    "from keras.models import Model, Sequential\n",
    "from keras.layers import *\n",
    "from keras.optimizers import Adam\n",
    "\n",
    "import tensorflow as tf\n",
    "import numpy as np\n",
    "\n",
    "import pandas as pd\n",
    "from collections import Counter\n",
    "from sklearn.model_selection import train_test_split\n",
    "\n",
    "print(keras.__version__)\n",
    "print(tf.__version__)"
   ]
  },
  {
   "cell_type": "code",
   "execution_count": 80,
   "metadata": {},
   "outputs": [
    {
     "name": "stdout",
     "output_type": "stream",
     "text": [
      "[62, 43, 81, 99, 20]\n"
     ]
    }
   ],
   "source": [
    "# Build set of numbers of remove\n",
    "remove_num = 5\n",
    "remove_list = []\n",
    "for iteration in range(remove_num):\n",
    "    rand_num = np.random.randint(0, 100)\n",
    "    if rand_num not in remove_list:\n",
    "        remove_list.append(rand_num)\n",
    "        \n",
    "print(remove_list)"
   ]
  },
  {
   "cell_type": "code",
   "execution_count": 90,
   "metadata": {},
   "outputs": [
    {
     "name": "stdout",
     "output_type": "stream",
     "text": [
      "    0   1\n",
      "0  47  17\n",
      "1  13  33\n",
      "2   5  67\n",
      "3  89  85\n",
      "4  49   7\n",
      "5  39  59\n",
      "6  68  27\n",
      "7  92  97\n",
      "8  91  70\n",
      "9   7  19\n",
      "   0    1    2    3    4    5    6    7    8    9   ...   191  192  193  194  \\\n",
      "0  0.0  0.0  0.0  0.0  0.0  0.0  0.0  0.0  0.0  0.0 ...   0.0  0.0  0.0  0.0   \n",
      "1  0.0  0.0  0.0  0.0  0.0  0.0  0.0  0.0  0.0  0.0 ...   0.0  0.0  0.0  0.0   \n",
      "2  0.0  0.0  0.0  0.0  0.0  0.0  0.0  0.0  0.0  0.0 ...   0.0  0.0  0.0  0.0   \n",
      "3  0.0  0.0  0.0  0.0  0.0  0.0  0.0  0.0  0.0  0.0 ...   0.0  0.0  0.0  0.0   \n",
      "4  0.0  0.0  0.0  0.0  0.0  0.0  0.0  0.0  0.0  0.0 ...   0.0  0.0  0.0  0.0   \n",
      "5  0.0  0.0  0.0  0.0  0.0  0.0  0.0  0.0  0.0  0.0 ...   0.0  0.0  0.0  0.0   \n",
      "6  0.0  0.0  0.0  0.0  0.0  0.0  0.0  0.0  0.0  0.0 ...   0.0  0.0  0.0  0.0   \n",
      "7  0.0  0.0  0.0  0.0  0.0  0.0  0.0  0.0  0.0  0.0 ...   0.0  0.0  0.0  0.0   \n",
      "8  0.0  0.0  0.0  0.0  0.0  0.0  0.0  0.0  0.0  0.0 ...   0.0  0.0  0.0  0.0   \n",
      "9  0.0  0.0  0.0  0.0  0.0  0.0  0.0  0.0  0.0  0.0 ...   0.0  0.0  0.0  0.0   \n",
      "\n",
      "   195  196  197  198  199  200  \n",
      "0  0.0  0.0  0.0  0.0  0.0  0.0  \n",
      "1  0.0  0.0  0.0  0.0  0.0  0.0  \n",
      "2  0.0  0.0  0.0  0.0  0.0  0.0  \n",
      "3  0.0  0.0  0.0  0.0  0.0  0.0  \n",
      "4  0.0  0.0  0.0  0.0  0.0  0.0  \n",
      "5  0.0  0.0  0.0  0.0  0.0  0.0  \n",
      "6  0.0  0.0  0.0  0.0  0.0  0.0  \n",
      "7  0.0  0.0  0.0  0.0  0.0  0.0  \n",
      "8  0.0  0.0  0.0  0.0  0.0  0.0  \n",
      "9  0.0  0.0  0.0  0.0  0.0  0.0  \n",
      "\n",
      "[10 rows x 201 columns]\n"
     ]
    }
   ],
   "source": [
    "# Build dataset\n",
    "n_classes = 201\n",
    "dataset_size = 10000\n",
    "pairs = pd.DataFrame(np.random.randint(0, 100, size=(dataset_size, 2)))\n",
    "\n",
    "pairs = pairs[~pairs[0].isin(remove_list) & ~pairs[1].isin(remove_list)]\n",
    "\n",
    "labels = pd.DataFrame([pair[0] + pair[1] for index, pair in pairs.iterrows()])\n",
    "labels = pd.DataFrame(keras.utils.to_categorical(labels, n_classes))\n",
    "\n",
    "print(pairs[:10])\n",
    "print(labels[:10])"
   ]
  },
  {
   "cell_type": "code",
   "execution_count": 82,
   "metadata": {},
   "outputs": [
    {
     "name": "stdout",
     "output_type": "stream",
     "text": [
      "[['0', '0', '0', '1', '1', '0', '1', '0', '0', '1', '1', '0', '1', '0'], ['1', '0', '1', '1', '1', '0', '0', '0', '1', '0', '0', '1', '0', '1'], ['1', '0', '1', '0', '0', '0', '0', '1', '1', '0', '0', '0', '1', '0'], ['0', '1', '0', '0', '1', '1', '0', '0', '0', '1', '0', '0', '0', '0'], ['0', '1', '1', '1', '1', '0', '1', '1', '0', '1', '1', '1', '1', '1'], ['0', '0', '1', '1', '0', '1', '1', '0', '0', '1', '0', '0', '1', '1'], ['0', '0', '0', '1', '1', '1', '0', '1', '0', '1', '1', '0', '1', '1'], ['0', '0', '1', '1', '1', '0', '1', '0', '1', '0', '0', '1', '1', '0'], ['0', '0', '1', '1', '0', '0', '1', '1', '0', '0', '0', '1', '0', '0'], ['0', '1', '0', '1', '0', '0', '1', '0', '1', '1', '1', '0', '0', '1']]\n"
     ]
    }
   ],
   "source": [
    "# Convert integer to binary\n",
    "def convert_int_to_bin_list(num, places=7):\n",
    "    return list(format(num, '0'+str(places)+'b'))\n",
    "\n",
    "convert_int_to_bin_list(50, 7)\n",
    "\n",
    "# Format the pairs\n",
    "pairs_vectors = [convert_int_to_bin_list(pair[0]) + convert_int_to_bin_list(pair[1]) for index, pair in pairs.iterrows()]\n",
    "\n",
    "print(pairs_vectors[:10])"
   ]
  },
  {
   "cell_type": "code",
   "execution_count": 83,
   "metadata": {},
   "outputs": [],
   "source": [
    "# Partition data into training set and validation set\n",
    "x_train, x_test, y_train, y_test = train_test_split(pairs_vectors, labels.values, test_size=0.2)"
   ]
  },
  {
   "cell_type": "code",
   "execution_count": 84,
   "metadata": {
    "collapsed": true
   },
   "outputs": [],
   "source": [
    "# Training Parameters\n",
    "learning_rate = 0.005\n",
    "training_epochs = 100\n",
    "batch_size = 100\n",
    "\n",
    "# Network Parameters\n",
    "n_input = 14\n",
    "n_hidden = 128 \n",
    "num_layers = 3"
   ]
  },
  {
   "cell_type": "code",
   "execution_count": 85,
   "metadata": {
    "collapsed": true
   },
   "outputs": [],
   "source": [
    "# Set up the input layer, hidden layers and output layer\n",
    "Inp = Input(shape=(n_input,))\n",
    "x = Inp\n",
    "for index in range(num_layers):\n",
    "    x = Dense(n_hidden, activation='relu', name = \"Dense_\" + str(index))(x)\n",
    "\n",
    "output = Dense(n_classes, activation='softmax', name = \"Outputlayer\")(x)"
   ]
  },
  {
   "cell_type": "code",
   "execution_count": 86,
   "metadata": {},
   "outputs": [
    {
     "name": "stdout",
     "output_type": "stream",
     "text": [
      "_________________________________________________________________\n",
      "Layer (type)                 Output Shape              Param #   \n",
      "=================================================================\n",
      "input_5 (InputLayer)         (None, 14)                0         \n",
      "_________________________________________________________________\n",
      "Dense_0 (Dense)              (None, 128)               1920      \n",
      "_________________________________________________________________\n",
      "Dense_1 (Dense)              (None, 128)               16512     \n",
      "_________________________________________________________________\n",
      "Dense_2 (Dense)              (None, 128)               16512     \n",
      "_________________________________________________________________\n",
      "Outputlayer (Dense)          (None, 201)               25929     \n",
      "=================================================================\n",
      "Total params: 60,873\n",
      "Trainable params: 60,873\n",
      "Non-trainable params: 0\n",
      "_________________________________________________________________\n"
     ]
    }
   ],
   "source": [
    "model = Model(Inp, output)\n",
    "\n",
    "model.summary()"
   ]
  },
  {
   "cell_type": "code",
   "execution_count": 87,
   "metadata": {
    "collapsed": true
   },
   "outputs": [],
   "source": [
    "# Compile the model\n",
    "model.compile(loss='categorical_crossentropy',\n",
    "              optimizer='adam',\n",
    "              metrics=['accuracy'])\n",
    "\n",
    "# Set the learning rate of the model\n",
    "K.set_value(model.optimizer.lr, learning_rate)"
   ]
  },
  {
   "cell_type": "code",
   "execution_count": 88,
   "metadata": {},
   "outputs": [
    {
     "name": "stdout",
     "output_type": "stream",
     "text": [
      "Train on 7180 samples, validate on 1795 samples\n",
      "Epoch 1/100\n",
      "7180/7180 [==============================] - 1s - loss: 4.8242 - acc: 0.0180 - val_loss: 4.1774 - val_acc: 0.0279\n",
      "Epoch 2/100\n",
      "7180/7180 [==============================] - 0s - loss: 3.7189 - acc: 0.0635 - val_loss: 3.3399 - val_acc: 0.0852\n",
      "Epoch 3/100\n",
      "7180/7180 [==============================] - 0s - loss: 2.7636 - acc: 0.1728 - val_loss: 2.3653 - val_acc: 0.2245\n",
      "Epoch 4/100\n",
      "7180/7180 [==============================] - 0s - loss: 1.9496 - acc: 0.3454 - val_loss: 1.6429 - val_acc: 0.4401\n",
      "Epoch 5/100\n",
      "7180/7180 [==============================] - 0s - loss: 1.2491 - acc: 0.5727 - val_loss: 1.0079 - val_acc: 0.6607\n",
      "Epoch 6/100\n",
      "7180/7180 [==============================] - 0s - loss: 0.7396 - acc: 0.7443 - val_loss: 0.7350 - val_acc: 0.7476\n",
      "Epoch 7/100\n",
      "7180/7180 [==============================] - 0s - loss: 0.4815 - acc: 0.8394 - val_loss: 0.4541 - val_acc: 0.8524\n",
      "Epoch 8/100\n",
      "7180/7180 [==============================] - 0s - loss: 0.2963 - acc: 0.9046 - val_loss: 0.3112 - val_acc: 0.9064\n",
      "Epoch 9/100\n",
      "7180/7180 [==============================] - 0s - loss: 0.1809 - acc: 0.9497 - val_loss: 0.1687 - val_acc: 0.9526\n",
      "Epoch 10/100\n",
      "7180/7180 [==============================] - 0s - loss: 0.1068 - acc: 0.9720 - val_loss: 0.1262 - val_acc: 0.9738\n",
      "Epoch 11/100\n",
      "7180/7180 [==============================] - 0s - loss: 0.1415 - acc: 0.9567 - val_loss: 0.1432 - val_acc: 0.9660\n",
      "Epoch 12/100\n",
      "7180/7180 [==============================] - 0s - loss: 0.0701 - acc: 0.9804 - val_loss: 0.0958 - val_acc: 0.9822\n",
      "Epoch 13/100\n",
      "7180/7180 [==============================] - 0s - loss: 0.1866 - acc: 0.9464 - val_loss: 0.7113 - val_acc: 0.7877\n",
      "Epoch 14/100\n",
      "7180/7180 [==============================] - 0s - loss: 0.2592 - acc: 0.9181 - val_loss: 0.1405 - val_acc: 0.9716\n",
      "Epoch 15/100\n",
      "7180/7180 [==============================] - 0s - loss: 0.0522 - acc: 0.9864 - val_loss: 0.0609 - val_acc: 0.9916\n",
      "Epoch 16/100\n",
      "7180/7180 [==============================] - 0s - loss: 0.0213 - acc: 0.9944 - val_loss: 0.0486 - val_acc: 0.9928\n",
      "Epoch 17/100\n",
      "7180/7180 [==============================] - 0s - loss: 0.0168 - acc: 0.9971 - val_loss: 0.0653 - val_acc: 0.9889\n",
      "Epoch 18/100\n",
      "7180/7180 [==============================] - 0s - loss: 0.0124 - acc: 0.9968 - val_loss: 0.0471 - val_acc: 0.9950\n",
      "Epoch 19/100\n",
      "7180/7180 [==============================] - 0s - loss: 0.0090 - acc: 0.9987 - val_loss: 0.0519 - val_acc: 0.9933\n",
      "Epoch 20/100\n",
      "7180/7180 [==============================] - 0s - loss: 0.0575 - acc: 0.9838 - val_loss: 0.4167 - val_acc: 0.8780\n",
      "Epoch 21/100\n",
      "7180/7180 [==============================] - 0s - loss: 0.1432 - acc: 0.9542 - val_loss: 0.1152 - val_acc: 0.9760\n",
      "Epoch 22/100\n",
      "7180/7180 [==============================] - 0s - loss: 0.0357 - acc: 0.9896 - val_loss: 0.0674 - val_acc: 0.9872\n",
      "Epoch 23/100\n",
      "7180/7180 [==============================] - 0s - loss: 0.0193 - acc: 0.9948 - val_loss: 0.0746 - val_acc: 0.9889\n",
      "Epoch 24/100\n",
      "7180/7180 [==============================] - 0s - loss: 0.0176 - acc: 0.9955 - val_loss: 0.0646 - val_acc: 0.9905\n",
      "Epoch 25/100\n",
      "7180/7180 [==============================] - 0s - loss: 0.0111 - acc: 0.9979 - val_loss: 0.0440 - val_acc: 0.9944\n",
      "Epoch 26/100\n",
      "7180/7180 [==============================] - 0s - loss: 0.0158 - acc: 0.9974 - val_loss: 0.0822 - val_acc: 0.9866\n",
      "Epoch 27/100\n",
      "7180/7180 [==============================] - 0s - loss: 0.0357 - acc: 0.9908 - val_loss: 0.3522 - val_acc: 0.9209\n",
      "Epoch 28/100\n",
      "7180/7180 [==============================] - 0s - loss: 0.2321 - acc: 0.9344 - val_loss: 0.2215 - val_acc: 0.9376\n",
      "Epoch 29/100\n",
      "7180/7180 [==============================] - 0s - loss: 0.1935 - acc: 0.9415 - val_loss: 0.2150 - val_acc: 0.9460\n",
      "Epoch 30/100\n",
      "7180/7180 [==============================] - 0s - loss: 0.0615 - acc: 0.9826 - val_loss: 0.0857 - val_acc: 0.9850\n",
      "Epoch 31/100\n",
      "7180/7180 [==============================] - 0s - loss: 0.0351 - acc: 0.9905 - val_loss: 0.0592 - val_acc: 0.9922\n",
      "Epoch 32/100\n",
      "7180/7180 [==============================] - 0s - loss: 0.0241 - acc: 0.9951 - val_loss: 0.0908 - val_acc: 0.9900\n",
      "Epoch 33/100\n",
      "7180/7180 [==============================] - 0s - loss: 0.0081 - acc: 0.9989 - val_loss: 0.0438 - val_acc: 0.9961\n",
      "Epoch 34/100\n",
      "7180/7180 [==============================] - 0s - loss: 0.0031 - acc: 0.9999 - val_loss: 0.0437 - val_acc: 0.9967\n",
      "Epoch 35/100\n",
      "7180/7180 [==============================] - 0s - loss: 0.0029 - acc: 0.9999 - val_loss: 0.0420 - val_acc: 0.9967\n",
      "Epoch 36/100\n",
      "7180/7180 [==============================] - 0s - loss: 0.0026 - acc: 0.9999 - val_loss: 0.0421 - val_acc: 0.9967\n",
      "Epoch 37/100\n",
      "7180/7180 [==============================] - 0s - loss: 0.0026 - acc: 0.9999 - val_loss: 0.0421 - val_acc: 0.9967\n",
      "Epoch 38/100\n",
      "7180/7180 [==============================] - 0s - loss: 0.0025 - acc: 0.9999 - val_loss: 0.0422 - val_acc: 0.9967\n",
      "Epoch 39/100\n",
      "7180/7180 [==============================] - 0s - loss: 0.0025 - acc: 0.9999 - val_loss: 0.0422 - val_acc: 0.9967\n",
      "Epoch 40/100\n",
      "7180/7180 [==============================] - 0s - loss: 0.0025 - acc: 0.9999 - val_loss: 0.0421 - val_acc: 0.9967\n",
      "Epoch 41/100\n",
      "7180/7180 [==============================] - 0s - loss: 0.0025 - acc: 0.9999 - val_loss: 0.0423 - val_acc: 0.9967\n",
      "Epoch 42/100\n",
      "7180/7180 [==============================] - 0s - loss: 0.0025 - acc: 0.9999 - val_loss: 0.0422 - val_acc: 0.9967\n",
      "Epoch 43/100\n",
      "7180/7180 [==============================] - 0s - loss: 0.0024 - acc: 0.9999 - val_loss: 0.0423 - val_acc: 0.9967\n",
      "Epoch 44/100\n",
      "7180/7180 [==============================] - 0s - loss: 0.0024 - acc: 0.9999 - val_loss: 0.0422 - val_acc: 0.9967\n",
      "Epoch 45/100\n",
      "7180/7180 [==============================] - 0s - loss: 0.0024 - acc: 0.9999 - val_loss: 0.0423 - val_acc: 0.9967\n",
      "Epoch 46/100\n",
      "7180/7180 [==============================] - 0s - loss: 0.0024 - acc: 0.9999 - val_loss: 0.0424 - val_acc: 0.9967\n",
      "Epoch 47/100\n",
      "7180/7180 [==============================] - 0s - loss: 0.0024 - acc: 0.9999 - val_loss: 0.0424 - val_acc: 0.9967\n",
      "Epoch 48/100\n",
      "7180/7180 [==============================] - 0s - loss: 0.0024 - acc: 0.9999 - val_loss: 0.0425 - val_acc: 0.9967\n",
      "Epoch 49/100\n",
      "7180/7180 [==============================] - 0s - loss: 0.0024 - acc: 0.9999 - val_loss: 0.0425 - val_acc: 0.9961\n",
      "Epoch 50/100\n",
      "7180/7180 [==============================] - 0s - loss: 0.0024 - acc: 0.9999 - val_loss: 0.0424 - val_acc: 0.9961\n",
      "Epoch 51/100\n",
      "7180/7180 [==============================] - 0s - loss: 0.0024 - acc: 0.9999 - val_loss: 0.0426 - val_acc: 0.9961\n",
      "Epoch 52/100\n",
      "7180/7180 [==============================] - 0s - loss: 0.0024 - acc: 0.9999 - val_loss: 0.0426 - val_acc: 0.9961\n",
      "Epoch 53/100\n",
      "7180/7180 [==============================] - 0s - loss: 0.0024 - acc: 0.9999 - val_loss: 0.0426 - val_acc: 0.9961\n",
      "Epoch 54/100\n",
      "7180/7180 [==============================] - 0s - loss: 0.0023 - acc: 0.9999 - val_loss: 0.0427 - val_acc: 0.9961\n",
      "Epoch 55/100\n",
      "7180/7180 [==============================] - 0s - loss: 0.0023 - acc: 0.9999 - val_loss: 0.0427 - val_acc: 0.9961\n",
      "Epoch 56/100\n",
      "7180/7180 [==============================] - 0s - loss: 0.0023 - acc: 0.9999 - val_loss: 0.0427 - val_acc: 0.9961\n",
      "Epoch 57/100\n",
      "7180/7180 [==============================] - 0s - loss: 0.0023 - acc: 0.9999 - val_loss: 0.0428 - val_acc: 0.9961\n",
      "Epoch 58/100\n",
      "7180/7180 [==============================] - 0s - loss: 0.0023 - acc: 0.9999 - val_loss: 0.0428 - val_acc: 0.9961\n",
      "Epoch 59/100\n",
      "7180/7180 [==============================] - 0s - loss: 0.0023 - acc: 0.9999 - val_loss: 0.0429 - val_acc: 0.9961\n",
      "Epoch 60/100\n",
      "7180/7180 [==============================] - 0s - loss: 0.0023 - acc: 0.9999 - val_loss: 0.0429 - val_acc: 0.9961\n",
      "Epoch 61/100\n",
      "7180/7180 [==============================] - 0s - loss: 0.0023 - acc: 0.9999 - val_loss: 0.0430 - val_acc: 0.9961\n",
      "Epoch 62/100\n",
      "7180/7180 [==============================] - 0s - loss: 0.0023 - acc: 0.9999 - val_loss: 0.0430 - val_acc: 0.9961\n",
      "Epoch 63/100\n",
      "7180/7180 [==============================] - 0s - loss: 0.0023 - acc: 0.9999 - val_loss: 0.0431 - val_acc: 0.9961\n",
      "Epoch 64/100\n",
      "7180/7180 [==============================] - 0s - loss: 0.0023 - acc: 0.9999 - val_loss: 0.0432 - val_acc: 0.9961\n",
      "Epoch 65/100\n"
     ]
    },
    {
     "name": "stdout",
     "output_type": "stream",
     "text": [
      "7180/7180 [==============================] - 0s - loss: 0.0023 - acc: 0.9999 - val_loss: 0.0432 - val_acc: 0.9961\n",
      "Epoch 66/100\n",
      "7180/7180 [==============================] - 0s - loss: 0.0023 - acc: 0.9999 - val_loss: 0.0433 - val_acc: 0.9961\n",
      "Epoch 67/100\n",
      "7180/7180 [==============================] - 0s - loss: 0.0023 - acc: 0.9999 - val_loss: 0.0433 - val_acc: 0.9961\n",
      "Epoch 68/100\n",
      "7180/7180 [==============================] - 0s - loss: 0.0023 - acc: 0.9999 - val_loss: 0.0433 - val_acc: 0.9961\n",
      "Epoch 69/100\n",
      "7180/7180 [==============================] - 0s - loss: 0.0023 - acc: 0.9999 - val_loss: 0.0433 - val_acc: 0.9961\n",
      "Epoch 70/100\n",
      "7180/7180 [==============================] - 0s - loss: 0.0023 - acc: 0.9999 - val_loss: 0.0433 - val_acc: 0.9961\n",
      "Epoch 71/100\n",
      "7180/7180 [==============================] - 0s - loss: 0.0023 - acc: 0.9999 - val_loss: 0.0434 - val_acc: 0.9961\n",
      "Epoch 72/100\n",
      "7180/7180 [==============================] - 0s - loss: 0.0023 - acc: 0.9999 - val_loss: 0.0434 - val_acc: 0.9961\n",
      "Epoch 73/100\n",
      "7180/7180 [==============================] - 0s - loss: 0.0023 - acc: 0.9999 - val_loss: 0.0434 - val_acc: 0.9961\n",
      "Epoch 74/100\n",
      "7180/7180 [==============================] - 0s - loss: 0.0023 - acc: 0.9999 - val_loss: 0.0434 - val_acc: 0.9961\n",
      "Epoch 75/100\n",
      "7180/7180 [==============================] - 0s - loss: 0.0023 - acc: 0.9999 - val_loss: 0.0435 - val_acc: 0.9961\n",
      "Epoch 76/100\n",
      "7180/7180 [==============================] - 0s - loss: 0.0023 - acc: 0.9999 - val_loss: 0.0435 - val_acc: 0.9961\n",
      "Epoch 77/100\n",
      "7180/7180 [==============================] - 0s - loss: 0.0023 - acc: 0.9999 - val_loss: 0.0435 - val_acc: 0.9961\n",
      "Epoch 78/100\n",
      "7180/7180 [==============================] - 0s - loss: 0.0023 - acc: 0.9999 - val_loss: 0.0435 - val_acc: 0.9961\n",
      "Epoch 79/100\n",
      "7180/7180 [==============================] - 0s - loss: 0.0023 - acc: 0.9999 - val_loss: 0.0436 - val_acc: 0.9961\n",
      "Epoch 80/100\n",
      "7180/7180 [==============================] - 0s - loss: 0.0023 - acc: 0.9999 - val_loss: 0.0436 - val_acc: 0.9961\n",
      "Epoch 81/100\n",
      "7180/7180 [==============================] - 0s - loss: 0.0023 - acc: 0.9999 - val_loss: 0.0436 - val_acc: 0.9961\n",
      "Epoch 82/100\n",
      "7180/7180 [==============================] - 0s - loss: 0.0023 - acc: 0.9999 - val_loss: 0.0436 - val_acc: 0.9961\n",
      "Epoch 83/100\n",
      "7180/7180 [==============================] - 0s - loss: 0.0023 - acc: 0.9999 - val_loss: 0.0436 - val_acc: 0.9961\n",
      "Epoch 84/100\n",
      "7180/7180 [==============================] - 0s - loss: 0.0023 - acc: 0.9999 - val_loss: 0.0437 - val_acc: 0.9961\n",
      "Epoch 85/100\n",
      "7180/7180 [==============================] - 0s - loss: 0.0023 - acc: 0.9999 - val_loss: 0.0437 - val_acc: 0.9961\n",
      "Epoch 86/100\n",
      "7180/7180 [==============================] - 0s - loss: 0.0023 - acc: 0.9999 - val_loss: 0.0437 - val_acc: 0.9961\n",
      "Epoch 87/100\n",
      "7180/7180 [==============================] - 0s - loss: 0.0023 - acc: 0.9999 - val_loss: 0.0438 - val_acc: 0.9961\n",
      "Epoch 88/100\n",
      "7180/7180 [==============================] - 0s - loss: 0.0023 - acc: 0.9999 - val_loss: 0.0438 - val_acc: 0.9961\n",
      "Epoch 89/100\n",
      "7180/7180 [==============================] - 0s - loss: 0.0023 - acc: 0.9999 - val_loss: 0.0438 - val_acc: 0.9961\n",
      "Epoch 90/100\n",
      "7180/7180 [==============================] - 0s - loss: 0.0023 - acc: 0.9999 - val_loss: 0.0439 - val_acc: 0.9961\n",
      "Epoch 91/100\n",
      "7180/7180 [==============================] - 0s - loss: 0.0023 - acc: 0.9999 - val_loss: 0.0439 - val_acc: 0.9961\n",
      "Epoch 92/100\n",
      "7180/7180 [==============================] - 0s - loss: 0.0023 - acc: 0.9999 - val_loss: 0.0439 - val_acc: 0.9961\n",
      "Epoch 93/100\n",
      "7180/7180 [==============================] - 0s - loss: 0.0023 - acc: 0.9999 - val_loss: 0.0439 - val_acc: 0.9961\n",
      "Epoch 94/100\n",
      "7180/7180 [==============================] - 0s - loss: 0.0023 - acc: 0.9999 - val_loss: 0.0440 - val_acc: 0.9961\n",
      "Epoch 95/100\n",
      "7180/7180 [==============================] - 0s - loss: 0.0023 - acc: 0.9999 - val_loss: 0.0440 - val_acc: 0.9961\n",
      "Epoch 96/100\n",
      "7180/7180 [==============================] - 0s - loss: 0.0023 - acc: 0.9999 - val_loss: 0.0440 - val_acc: 0.9961\n",
      "Epoch 97/100\n",
      "7180/7180 [==============================] - 0s - loss: 0.0023 - acc: 0.9999 - val_loss: 0.0440 - val_acc: 0.9961\n",
      "Epoch 98/100\n",
      "7180/7180 [==============================] - 0s - loss: 0.0023 - acc: 0.9999 - val_loss: 0.0441 - val_acc: 0.9961\n",
      "Epoch 99/100\n",
      "7180/7180 [==============================] - 0s - loss: 0.0023 - acc: 0.9999 - val_loss: 0.0441 - val_acc: 0.9961\n",
      "Epoch 100/100\n",
      "7180/7180 [==============================] - 0s - loss: 0.0023 - acc: 0.9999 - val_loss: 0.0442 - val_acc: 0.9961\n"
     ]
    }
   ],
   "source": [
    "history = model.fit(x_train, y_train,\n",
    "                    batch_size=batch_size,\n",
    "                    epochs=training_epochs,\n",
    "                    verbose=1, # This is for what we want it to display out as it trains \n",
    "                    validation_data=(x_test, y_test))"
   ]
  },
  {
   "cell_type": "code",
   "execution_count": 89,
   "metadata": {},
   "outputs": [
    {
     "data": {
      "image/png": "[encoded data removed]",
      "text/plain": [
       "<matplotlib.figure.Figure at 0x7f71f4cc77f0>"
      ]
     },
     "metadata": {},
     "output_type": "display_data"
    }
   ],
   "source": [
    "# Plot the model accuracy across epochs\n",
    "def plot_train(hist):\n",
    "    h = hist.history\n",
    "    if 'acc' in h:\n",
    "        meas='acc'\n",
    "        loc='lower right'\n",
    "    else:\n",
    "        meas='loss'\n",
    "        loc='upper right'\n",
    "    plt.plot(hist.history[meas])\n",
    "    plt.plot(hist.history['val_'+meas])\n",
    "    plt.title('model '+meas)\n",
    "    plt.ylabel(meas)\n",
    "    plt.xlabel('epoch')\n",
    "    plt.legend(['train', 'validation'], loc=loc)\n",
    "    \n",
    "plot_train(history)"
   ]
  },
  {
   "cell_type": "code",
   "execution_count": 101,
   "metadata": {},
   "outputs": [
    {
     "name": "stdout",
     "output_type": "stream",
     "text": [
      "    0  1\n",
      "0  62  4\n",
      "1  43  3\n",
      "[0    66\n",
      "1    46\n",
      "dtype: int64, 0    66\n",
      "1    46\n",
      "dtype: int64]\n",
      "[66, 46]\n"
     ]
    }
   ],
   "source": [
    "predict_pairs = [(62, 4), (43, 3)]\n",
    "predict_pairs = pd.DataFrame.from_records(predict_pairs)\n",
    "print(predict_pairs)\n",
    "\n",
    "#predict_pairs = pd.DataFrame(np.random.randint(0, 100, size=(5, 2)))\n",
    "\n",
    "predict_pairs_vectors = [convert_int_to_bin_list(pair[0]) + convert_int_to_bin_list(pair[1]) for index, pair in predict_pairs.iterrows()]\n",
    "\n",
    "prediction = model.predict(predict_pairs_vectors)\n",
    "\n",
    "print([predict_pairs[0] + predict_pairs[1] for pair in predict_pairs])\n",
    "\n",
    "print([np.argmax(array) for array in prediction])"
   ]
  },
  {
   "cell_type": "code",
   "execution_count": null,
   "metadata": {
    "collapsed": true
   },
   "outputs": [],
   "source": []
  }
 ],
 "metadata": {
  "kernelspec": {
   "display_name": "Python 3",
   "language": "python",
   "name": "python3"
  },
  "language_info": {
   "codemirror_mode": {
    "name": "ipython",
    "version": 3
   },
   "file_extension": ".py",
   "mimetype": "text/x-python",
   "name": "python",
   "nbconvert_exporter": "python",
   "pygments_lexer": "ipython3",
   "version": "3.6.2"
  }
 },
 "nbformat": 4,
 "nbformat_minor": 2
}
